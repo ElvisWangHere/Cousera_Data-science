{
 "cells": [
  {
   "cell_type": "markdown",
   "metadata": {
    "id": "buicQeGnlPED"
   },
   "source": [
    "<p style=\"text-align:center\">\n",
    "    <a href=\"https://skills.network/?utm_medium=Exinfluencer&utm_source=Exinfluencer&utm_content=000026UJ&utm_term=10006555&utm_id=NA-SkillsNetwork-Channel-SkillsNetworkCoursesIBMDeveloperSkillsNetworkML0101ENSkillsNetwork20718538-2022-01-01\" target=\"_blank\">\n",
    "    <img src=\"https://cf-courses-data.s3.us.cloud-object-storage.appdomain.cloud/assets/logos/SN_web_lightmode.png\" width=\"200\" alt=\"Skills Network Logo\">\n",
    "    </a>\n",
    "</p>\n",
    "\n",
    "<h1 align=\"center\"><font size=\"5\">Final Project: Classification with Python</font></h1>\n"
   ]
  },
  {
   "cell_type": "markdown",
   "metadata": {
    "id": "RTlr2UI2lPEH"
   },
   "source": [
    "<h2>Table of Contents</h2>\n",
    "<div class=\"alert alert-block alert-info\" style=\"margin-top: 20px\">\n",
    "    <ul>\n",
    "    <li><a href=\"https://#Section_1\">Instructions</a></li>\n",
    "    <li><a href=\"https://#Section_2\">About the Data</a></li>\n",
    "    <li><a href=\"https://#Section_3\">Importing Data </a></li>\n",
    "    <li><a href=\"https://#Section_4\">Data Preprocessing</a> </li>\n",
    "    <li><a href=\"https://#Section_5\">One Hot Encoding </a></li>\n",
    "    <li><a href=\"https://#Section_6\">Train and Test Data Split </a></li>\n",
    "    <li><a href=\"https://#Section_7\">Train Logistic Regression, KNN, Decision Tree, SVM, and Linear Regression models and return their appropriate accuracy scores</a></li>\n",
    "</a></li>\n",
    "</div>\n",
    "<p>Estimated Time Needed: <strong>180 min</strong></p>\n",
    "</div>\n",
    "\n",
    "<hr>\n"
   ]
  },
  {
   "cell_type": "markdown",
   "metadata": {
    "id": "Rl0J_IfflPEH"
   },
   "source": [
    "# Instructions\n"
   ]
  },
  {
   "cell_type": "markdown",
   "metadata": {
    "id": "lGCmrnWMlPEI"
   },
   "source": [
    "In this notebook, you will  practice all the classification algorithms that we have learned in this course.\n",
    "\n",
    "\n",
    "Below, is where we are going to use the classification algorithms to create a model based on our training data and evaluate our testing data using evaluation metrics learned in the course.\n",
    "\n",
    "We will use some of the algorithms taught in the course, specifically:\n",
    "\n",
    "1. Linear Regression\n",
    "2. KNN\n",
    "3. Decision Trees\n",
    "4. Logistic Regression\n",
    "5. SVM\n",
    "\n",
    "We will evaluate our models using:\n",
    "\n",
    "1.  Accuracy Score\n",
    "2.  Jaccard Index\n",
    "3.  F1-Score\n",
    "4.  LogLoss\n",
    "5.  Mean Absolute Error\n",
    "6.  Mean Squared Error\n",
    "7.  R2-Score\n",
    "\n",
    "Finally, you will use your models to generate the report at the end.\n"
   ]
  },
  {
   "cell_type": "markdown",
   "metadata": {
    "id": "VbOL85sklPEI"
   },
   "source": [
    "# About The Dataset\n"
   ]
  },
  {
   "cell_type": "markdown",
   "metadata": {
    "id": "op2uJid9lPEI"
   },
   "source": [
    "The original source of the data is Australian Government's Bureau of Meteorology and the latest data can be gathered from [http://www.bom.gov.au/climate/dwo/](http://www.bom.gov.au/climate/dwo/?utm_medium=Exinfluencer&utm_source=Exinfluencer&utm_content=000026UJ&utm_term=10006555&utm_id=NA-SkillsNetwork-Channel-SkillsNetworkCoursesIBMDeveloperSkillsNetworkML0101ENSkillsNetwork20718538-2022-01-01).\n",
    "\n",
    "The dataset to be used has extra columns like 'RainToday' and our target is 'RainTomorrow', which was gathered from the Rattle at [https://bitbucket.org/kayontoga/rattle/src/master/data/weatherAUS.RData](https://bitbucket.org/kayontoga/rattle/src/master/data/weatherAUS.RData?utm_medium=Exinfluencer&utm_source=Exinfluencer&utm_content=000026UJ&utm_term=10006555&utm_id=NA-SkillsNetwork-Channel-SkillsNetworkCoursesIBMDeveloperSkillsNetworkML0101ENSkillsNetwork20718538-2022-01-01)\n",
    "\n",
    "\n"
   ]
  },
  {
   "cell_type": "markdown",
   "metadata": {
    "id": "cuWb5Ho4lPEJ"
   },
   "source": [
    "This dataset contains observations of weather metrics for each day from 2008 to 2017. The **weatherAUS.csv** dataset includes the following fields:\n",
    "\n",
    "| Field         | Description                                           | Unit            | Type   |\n",
    "| ------------- | ----------------------------------------------------- | --------------- | ------ |\n",
    "| Date          | Date of the Observation in YYYY-MM-DD                 | Date            | object |\n",
    "| Location      | Location of the Observation                           | Location        | object |\n",
    "| MinTemp       | Minimum temperature                                   | Celsius         | float  |\n",
    "| MaxTemp       | Maximum temperature                                   | Celsius         | float  |\n",
    "| Rainfall      | Amount of rainfall                                    | Millimeters     | float  |\n",
    "| Evaporation   | Amount of evaporation                                 | Millimeters     | float  |\n",
    "| Sunshine      | Amount of bright sunshine                             | hours           | float  |\n",
    "| WindGustDir   | Direction of the strongest gust                       | Compass Points  | object |\n",
    "| WindGustSpeed | Speed of the strongest gust                           | Kilometers/Hour | object |\n",
    "| WindDir9am    | Wind direction averaged of 10 minutes prior to 9am    | Compass Points  | object |\n",
    "| WindDir3pm    | Wind direction averaged of 10 minutes prior to 3pm    | Compass Points  | object |\n",
    "| WindSpeed9am  | Wind speed averaged of 10 minutes prior to 9am        | Kilometers/Hour | float  |\n",
    "| WindSpeed3pm  | Wind speed averaged of 10 minutes prior to 3pm        | Kilometers/Hour | float  |\n",
    "| Humidity9am   | Humidity at 9am                                       | Percent         | float  |\n",
    "| Humidity3pm   | Humidity at 3pm                                       | Percent         | float  |\n",
    "| Pressure9am   | Atmospheric pressure reduced to mean sea level at 9am | Hectopascal     | float  |\n",
    "| Pressure3pm   | Atmospheric pressure reduced to mean sea level at 3pm | Hectopascal     | float  |\n",
    "| Cloud9am      | Fraction of the sky obscured by cloud at 9am          | Eights          | float  |\n",
    "| Cloud3pm      | Fraction of the sky obscured by cloud at 3pm          | Eights          | float  |\n",
    "| Temp9am       | Temperature at 9am                                    | Celsius         | float  |\n",
    "| Temp3pm       | Temperature at 3pm                                    | Celsius         | float  |\n",
    "| RainToday     | If there was rain today                               | Yes/No          | object |\n",
    "| RainTomorrow  | If there is rain tomorrow                             | Yes/No          | float  |\n",
    "\n",
    "Column definitions were gathered from [http://www.bom.gov.au/climate/dwo/IDCJDW0000.shtml](http://www.bom.gov.au/climate/dwo/IDCJDW0000.shtml?utm_medium=Exinfluencer&utm_source=Exinfluencer&utm_content=000026UJ&utm_term=10006555&utm_id=NA-SkillsNetwork-Channel-SkillsNetworkCoursesIBMDeveloperSkillsNetworkML0101ENSkillsNetwork20718538-2022-01-01)\n",
    "\n"
   ]
  },
  {
   "cell_type": "markdown",
   "metadata": {
    "id": "OEpunZbTlPEJ"
   },
   "source": [
    "## **Import the required libraries**\n"
   ]
  },
  {
   "cell_type": "code",
   "execution_count": 1,
   "metadata": {
    "executionInfo": {
     "elapsed": 627,
     "status": "ok",
     "timestamp": 1737543529474,
     "user": {
      "displayName": "Jiping Wang",
      "userId": "12655828254192313427"
     },
     "user_tz": 0
    },
    "id": "6fIIJbMNlPEJ"
   },
   "outputs": [],
   "source": [
    "# All Libraries required for this lab are listed below. The libraries pre-installed on Skills Network Labs are commented.\n",
    "# !mamba install -qy pandas==1.3.4 numpy==1.21.4 seaborn==0.9.0 matplotlib==3.5.0 scikit-learn==0.20.1\n",
    "# Note: If your environment doesn't support \"!mamba install\", use \"!pip install\""
   ]
  },
  {
   "cell_type": "code",
   "execution_count": 2,
   "metadata": {
    "executionInfo": {
     "elapsed": 2,
     "status": "ok",
     "timestamp": 1737543529784,
     "user": {
      "displayName": "Jiping Wang",
      "userId": "12655828254192313427"
     },
     "user_tz": 0
    },
    "id": "oOgLEMA3lPEL"
   },
   "outputs": [],
   "source": [
    "# Surpress warnings:\n",
    "def warn(*args, **kwargs):\n",
    "    pass\n",
    "import warnings\n",
    "warnings.warn = warn"
   ]
  },
  {
   "cell_type": "code",
   "execution_count": 3,
   "metadata": {
    "executionInfo": {
     "elapsed": 5104,
     "status": "ok",
     "timestamp": 1737543534887,
     "user": {
      "displayName": "Jiping Wang",
      "userId": "12655828254192313427"
     },
     "user_tz": 0
    },
    "id": "m3ShNhDclPEL"
   },
   "outputs": [],
   "source": [
    "import pandas as pd\n",
    "from sklearn.linear_model import LogisticRegression\n",
    "from sklearn.linear_model import LinearRegression\n",
    "from sklearn import preprocessing\n",
    "import numpy as np\n",
    "from sklearn.neighbors import KNeighborsClassifier\n",
    "from sklearn.model_selection import train_test_split\n",
    "from sklearn.neighbors import KNeighborsClassifier\n",
    "from sklearn.tree import DecisionTreeClassifier\n",
    "from sklearn import svm\n",
    "from sklearn.metrics import jaccard_score\n",
    "from sklearn.metrics import f1_score\n",
    "from sklearn.metrics import log_loss\n",
    "from sklearn.metrics import confusion_matrix, accuracy_score\n",
    "import sklearn.metrics as metrics"
   ]
  },
  {
   "cell_type": "markdown",
   "metadata": {
    "id": "g_aApRj6lPEL"
   },
   "source": [
    "### Importing the Dataset\n"
   ]
  },
  {
   "cell_type": "raw",
   "metadata": {
    "id": "U4g41BNPlPEL"
   },
   "source": [
    "from pyodide.http import pyfetch\n",
    "\n",
    "async def download(url, filename):\n",
    "    response = await pyfetch(url)\n",
    "    if response.status == 200:\n",
    "        with open(filename, \"wb\") as f:\n",
    "            f.write(await response.bytes())\n",
    "\n",
    "path='https://cf-courses-data.s3.us.cloud-object-storage.appdomain.cloud/IBMDeveloperSkillsNetwork-ML0101EN-SkillUp/labs/ML-FinalAssignment/Weather_Data.csv'\n",
    "await download(path, \"Weather_Data.csv\")\n",
    "filename =\"Weather_Data.csv\"\n",
    "\n",
    "df = pd.read_csv(\"Weather_Data.csv\")\n",
    "\n"
   ]
  },
  {
   "cell_type": "markdown",
   "metadata": {
    "id": "uyz99FRSlPEM"
   },
   "source": [
    "> Note: This version of the lab is designed for JupyterLite, which necessitates downloading the dataset to the interface. However, when working with the downloaded version of this notebook on your local machines (Jupyter Anaconda), you can simply **skip the steps above of \"Importing the Dataset\"** and use the URL directly in the `pandas.read_csv()` function. You can uncomment and run the statements in the cell below.\n"
   ]
  },
  {
   "cell_type": "code",
   "execution_count": 4,
   "metadata": {
    "executionInfo": {
     "elapsed": 2119,
     "status": "ok",
     "timestamp": 1737543537004,
     "user": {
      "displayName": "Jiping Wang",
      "userId": "12655828254192313427"
     },
     "user_tz": 0
    },
    "id": "N5HmLNmblPEM"
   },
   "outputs": [],
   "source": [
    "filepath = \"https://cf-courses-data.s3.us.cloud-object-storage.appdomain.cloud/IBMDeveloperSkillsNetwork-ML0101EN-SkillUp/labs/ML-FinalAssignment/Weather_Data.csv\"\n",
    "df = pd.read_csv(filepath)"
   ]
  },
  {
   "cell_type": "code",
   "execution_count": 5,
   "metadata": {
    "colab": {
     "base_uri": "https://localhost:8080/",
     "height": 236
    },
    "executionInfo": {
     "elapsed": 6,
     "status": "ok",
     "timestamp": 1737543537005,
     "user": {
      "displayName": "Jiping Wang",
      "userId": "12655828254192313427"
     },
     "user_tz": 0
    },
    "id": "m8CQ_bMDlPEM",
    "outputId": "c9d83438-3faa-4f66-ea22-8c7d90d1834c"
   },
   "outputs": [
    {
     "data": {
      "application/vnd.google.colaboratory.intrinsic+json": {
       "type": "dataframe",
       "variable_name": "df"
      },
      "text/html": [
       "\n",
       "  <div id=\"df-1bf256a1-9eda-48af-aa89-662f80b68f32\" class=\"colab-df-container\">\n",
       "    <div>\n",
       "<style scoped>\n",
       "    .dataframe tbody tr th:only-of-type {\n",
       "        vertical-align: middle;\n",
       "    }\n",
       "\n",
       "    .dataframe tbody tr th {\n",
       "        vertical-align: top;\n",
       "    }\n",
       "\n",
       "    .dataframe thead th {\n",
       "        text-align: right;\n",
       "    }\n",
       "</style>\n",
       "<table border=\"1\" class=\"dataframe\">\n",
       "  <thead>\n",
       "    <tr style=\"text-align: right;\">\n",
       "      <th></th>\n",
       "      <th>Date</th>\n",
       "      <th>MinTemp</th>\n",
       "      <th>MaxTemp</th>\n",
       "      <th>Rainfall</th>\n",
       "      <th>Evaporation</th>\n",
       "      <th>Sunshine</th>\n",
       "      <th>WindGustDir</th>\n",
       "      <th>WindGustSpeed</th>\n",
       "      <th>WindDir9am</th>\n",
       "      <th>WindDir3pm</th>\n",
       "      <th>...</th>\n",
       "      <th>Humidity9am</th>\n",
       "      <th>Humidity3pm</th>\n",
       "      <th>Pressure9am</th>\n",
       "      <th>Pressure3pm</th>\n",
       "      <th>Cloud9am</th>\n",
       "      <th>Cloud3pm</th>\n",
       "      <th>Temp9am</th>\n",
       "      <th>Temp3pm</th>\n",
       "      <th>RainToday</th>\n",
       "      <th>RainTomorrow</th>\n",
       "    </tr>\n",
       "  </thead>\n",
       "  <tbody>\n",
       "    <tr>\n",
       "      <th>0</th>\n",
       "      <td>2/1/2008</td>\n",
       "      <td>19.5</td>\n",
       "      <td>22.4</td>\n",
       "      <td>15.6</td>\n",
       "      <td>6.2</td>\n",
       "      <td>0.0</td>\n",
       "      <td>W</td>\n",
       "      <td>41</td>\n",
       "      <td>S</td>\n",
       "      <td>SSW</td>\n",
       "      <td>...</td>\n",
       "      <td>92</td>\n",
       "      <td>84</td>\n",
       "      <td>1017.6</td>\n",
       "      <td>1017.4</td>\n",
       "      <td>8</td>\n",
       "      <td>8</td>\n",
       "      <td>20.7</td>\n",
       "      <td>20.9</td>\n",
       "      <td>Yes</td>\n",
       "      <td>Yes</td>\n",
       "    </tr>\n",
       "    <tr>\n",
       "      <th>1</th>\n",
       "      <td>2/2/2008</td>\n",
       "      <td>19.5</td>\n",
       "      <td>25.6</td>\n",
       "      <td>6.0</td>\n",
       "      <td>3.4</td>\n",
       "      <td>2.7</td>\n",
       "      <td>W</td>\n",
       "      <td>41</td>\n",
       "      <td>W</td>\n",
       "      <td>E</td>\n",
       "      <td>...</td>\n",
       "      <td>83</td>\n",
       "      <td>73</td>\n",
       "      <td>1017.9</td>\n",
       "      <td>1016.4</td>\n",
       "      <td>7</td>\n",
       "      <td>7</td>\n",
       "      <td>22.4</td>\n",
       "      <td>24.8</td>\n",
       "      <td>Yes</td>\n",
       "      <td>Yes</td>\n",
       "    </tr>\n",
       "    <tr>\n",
       "      <th>2</th>\n",
       "      <td>2/3/2008</td>\n",
       "      <td>21.6</td>\n",
       "      <td>24.5</td>\n",
       "      <td>6.6</td>\n",
       "      <td>2.4</td>\n",
       "      <td>0.1</td>\n",
       "      <td>W</td>\n",
       "      <td>41</td>\n",
       "      <td>ESE</td>\n",
       "      <td>ESE</td>\n",
       "      <td>...</td>\n",
       "      <td>88</td>\n",
       "      <td>86</td>\n",
       "      <td>1016.7</td>\n",
       "      <td>1015.6</td>\n",
       "      <td>7</td>\n",
       "      <td>8</td>\n",
       "      <td>23.5</td>\n",
       "      <td>23.0</td>\n",
       "      <td>Yes</td>\n",
       "      <td>Yes</td>\n",
       "    </tr>\n",
       "    <tr>\n",
       "      <th>3</th>\n",
       "      <td>2/4/2008</td>\n",
       "      <td>20.2</td>\n",
       "      <td>22.8</td>\n",
       "      <td>18.8</td>\n",
       "      <td>2.2</td>\n",
       "      <td>0.0</td>\n",
       "      <td>W</td>\n",
       "      <td>41</td>\n",
       "      <td>NNE</td>\n",
       "      <td>E</td>\n",
       "      <td>...</td>\n",
       "      <td>83</td>\n",
       "      <td>90</td>\n",
       "      <td>1014.2</td>\n",
       "      <td>1011.8</td>\n",
       "      <td>8</td>\n",
       "      <td>8</td>\n",
       "      <td>21.4</td>\n",
       "      <td>20.9</td>\n",
       "      <td>Yes</td>\n",
       "      <td>Yes</td>\n",
       "    </tr>\n",
       "    <tr>\n",
       "      <th>4</th>\n",
       "      <td>2/5/2008</td>\n",
       "      <td>19.7</td>\n",
       "      <td>25.7</td>\n",
       "      <td>77.4</td>\n",
       "      <td>4.8</td>\n",
       "      <td>0.0</td>\n",
       "      <td>W</td>\n",
       "      <td>41</td>\n",
       "      <td>NNE</td>\n",
       "      <td>W</td>\n",
       "      <td>...</td>\n",
       "      <td>88</td>\n",
       "      <td>74</td>\n",
       "      <td>1008.3</td>\n",
       "      <td>1004.8</td>\n",
       "      <td>8</td>\n",
       "      <td>8</td>\n",
       "      <td>22.5</td>\n",
       "      <td>25.5</td>\n",
       "      <td>Yes</td>\n",
       "      <td>Yes</td>\n",
       "    </tr>\n",
       "  </tbody>\n",
       "</table>\n",
       "<p>5 rows × 22 columns</p>\n",
       "</div>\n",
       "    <div class=\"colab-df-buttons\">\n",
       "\n",
       "  <div class=\"colab-df-container\">\n",
       "    <button class=\"colab-df-convert\" onclick=\"convertToInteractive('df-1bf256a1-9eda-48af-aa89-662f80b68f32')\"\n",
       "            title=\"Convert this dataframe to an interactive table.\"\n",
       "            style=\"display:none;\">\n",
       "\n",
       "  <svg xmlns=\"http://www.w3.org/2000/svg\" height=\"24px\" viewBox=\"0 -960 960 960\">\n",
       "    <path d=\"M120-120v-720h720v720H120Zm60-500h600v-160H180v160Zm220 220h160v-160H400v160Zm0 220h160v-160H400v160ZM180-400h160v-160H180v160Zm440 0h160v-160H620v160ZM180-180h160v-160H180v160Zm440 0h160v-160H620v160Z\"/>\n",
       "  </svg>\n",
       "    </button>\n",
       "\n",
       "  <style>\n",
       "    .colab-df-container {\n",
       "      display:flex;\n",
       "      gap: 12px;\n",
       "    }\n",
       "\n",
       "    .colab-df-convert {\n",
       "      background-color: #E8F0FE;\n",
       "      border: none;\n",
       "      border-radius: 50%;\n",
       "      cursor: pointer;\n",
       "      display: none;\n",
       "      fill: #1967D2;\n",
       "      height: 32px;\n",
       "      padding: 0 0 0 0;\n",
       "      width: 32px;\n",
       "    }\n",
       "\n",
       "    .colab-df-convert:hover {\n",
       "      background-color: #E2EBFA;\n",
       "      box-shadow: 0px 1px 2px rgba(60, 64, 67, 0.3), 0px 1px 3px 1px rgba(60, 64, 67, 0.15);\n",
       "      fill: #174EA6;\n",
       "    }\n",
       "\n",
       "    .colab-df-buttons div {\n",
       "      margin-bottom: 4px;\n",
       "    }\n",
       "\n",
       "    [theme=dark] .colab-df-convert {\n",
       "      background-color: #3B4455;\n",
       "      fill: #D2E3FC;\n",
       "    }\n",
       "\n",
       "    [theme=dark] .colab-df-convert:hover {\n",
       "      background-color: #434B5C;\n",
       "      box-shadow: 0px 1px 3px 1px rgba(0, 0, 0, 0.15);\n",
       "      filter: drop-shadow(0px 1px 2px rgba(0, 0, 0, 0.3));\n",
       "      fill: #FFFFFF;\n",
       "    }\n",
       "  </style>\n",
       "\n",
       "    <script>\n",
       "      const buttonEl =\n",
       "        document.querySelector('#df-1bf256a1-9eda-48af-aa89-662f80b68f32 button.colab-df-convert');\n",
       "      buttonEl.style.display =\n",
       "        google.colab.kernel.accessAllowed ? 'block' : 'none';\n",
       "\n",
       "      async function convertToInteractive(key) {\n",
       "        const element = document.querySelector('#df-1bf256a1-9eda-48af-aa89-662f80b68f32');\n",
       "        const dataTable =\n",
       "          await google.colab.kernel.invokeFunction('convertToInteractive',\n",
       "                                                    [key], {});\n",
       "        if (!dataTable) return;\n",
       "\n",
       "        const docLinkHtml = 'Like what you see? Visit the ' +\n",
       "          '<a target=\"_blank\" href=https://colab.research.google.com/notebooks/data_table.ipynb>data table notebook</a>'\n",
       "          + ' to learn more about interactive tables.';\n",
       "        element.innerHTML = '';\n",
       "        dataTable['output_type'] = 'display_data';\n",
       "        await google.colab.output.renderOutput(dataTable, element);\n",
       "        const docLink = document.createElement('div');\n",
       "        docLink.innerHTML = docLinkHtml;\n",
       "        element.appendChild(docLink);\n",
       "      }\n",
       "    </script>\n",
       "  </div>\n",
       "\n",
       "\n",
       "<div id=\"df-9386ee60-c188-45fc-bcb1-6346b625a184\">\n",
       "  <button class=\"colab-df-quickchart\" onclick=\"quickchart('df-9386ee60-c188-45fc-bcb1-6346b625a184')\"\n",
       "            title=\"Suggest charts\"\n",
       "            style=\"display:none;\">\n",
       "\n",
       "<svg xmlns=\"http://www.w3.org/2000/svg\" height=\"24px\"viewBox=\"0 0 24 24\"\n",
       "     width=\"24px\">\n",
       "    <g>\n",
       "        <path d=\"M19 3H5c-1.1 0-2 .9-2 2v14c0 1.1.9 2 2 2h14c1.1 0 2-.9 2-2V5c0-1.1-.9-2-2-2zM9 17H7v-7h2v7zm4 0h-2V7h2v10zm4 0h-2v-4h2v4z\"/>\n",
       "    </g>\n",
       "</svg>\n",
       "  </button>\n",
       "\n",
       "<style>\n",
       "  .colab-df-quickchart {\n",
       "      --bg-color: #E8F0FE;\n",
       "      --fill-color: #1967D2;\n",
       "      --hover-bg-color: #E2EBFA;\n",
       "      --hover-fill-color: #174EA6;\n",
       "      --disabled-fill-color: #AAA;\n",
       "      --disabled-bg-color: #DDD;\n",
       "  }\n",
       "\n",
       "  [theme=dark] .colab-df-quickchart {\n",
       "      --bg-color: #3B4455;\n",
       "      --fill-color: #D2E3FC;\n",
       "      --hover-bg-color: #434B5C;\n",
       "      --hover-fill-color: #FFFFFF;\n",
       "      --disabled-bg-color: #3B4455;\n",
       "      --disabled-fill-color: #666;\n",
       "  }\n",
       "\n",
       "  .colab-df-quickchart {\n",
       "    background-color: var(--bg-color);\n",
       "    border: none;\n",
       "    border-radius: 50%;\n",
       "    cursor: pointer;\n",
       "    display: none;\n",
       "    fill: var(--fill-color);\n",
       "    height: 32px;\n",
       "    padding: 0;\n",
       "    width: 32px;\n",
       "  }\n",
       "\n",
       "  .colab-df-quickchart:hover {\n",
       "    background-color: var(--hover-bg-color);\n",
       "    box-shadow: 0 1px 2px rgba(60, 64, 67, 0.3), 0 1px 3px 1px rgba(60, 64, 67, 0.15);\n",
       "    fill: var(--button-hover-fill-color);\n",
       "  }\n",
       "\n",
       "  .colab-df-quickchart-complete:disabled,\n",
       "  .colab-df-quickchart-complete:disabled:hover {\n",
       "    background-color: var(--disabled-bg-color);\n",
       "    fill: var(--disabled-fill-color);\n",
       "    box-shadow: none;\n",
       "  }\n",
       "\n",
       "  .colab-df-spinner {\n",
       "    border: 2px solid var(--fill-color);\n",
       "    border-color: transparent;\n",
       "    border-bottom-color: var(--fill-color);\n",
       "    animation:\n",
       "      spin 1s steps(1) infinite;\n",
       "  }\n",
       "\n",
       "  @keyframes spin {\n",
       "    0% {\n",
       "      border-color: transparent;\n",
       "      border-bottom-color: var(--fill-color);\n",
       "      border-left-color: var(--fill-color);\n",
       "    }\n",
       "    20% {\n",
       "      border-color: transparent;\n",
       "      border-left-color: var(--fill-color);\n",
       "      border-top-color: var(--fill-color);\n",
       "    }\n",
       "    30% {\n",
       "      border-color: transparent;\n",
       "      border-left-color: var(--fill-color);\n",
       "      border-top-color: var(--fill-color);\n",
       "      border-right-color: var(--fill-color);\n",
       "    }\n",
       "    40% {\n",
       "      border-color: transparent;\n",
       "      border-right-color: var(--fill-color);\n",
       "      border-top-color: var(--fill-color);\n",
       "    }\n",
       "    60% {\n",
       "      border-color: transparent;\n",
       "      border-right-color: var(--fill-color);\n",
       "    }\n",
       "    80% {\n",
       "      border-color: transparent;\n",
       "      border-right-color: var(--fill-color);\n",
       "      border-bottom-color: var(--fill-color);\n",
       "    }\n",
       "    90% {\n",
       "      border-color: transparent;\n",
       "      border-bottom-color: var(--fill-color);\n",
       "    }\n",
       "  }\n",
       "</style>\n",
       "\n",
       "  <script>\n",
       "    async function quickchart(key) {\n",
       "      const quickchartButtonEl =\n",
       "        document.querySelector('#' + key + ' button');\n",
       "      quickchartButtonEl.disabled = true;  // To prevent multiple clicks.\n",
       "      quickchartButtonEl.classList.add('colab-df-spinner');\n",
       "      try {\n",
       "        const charts = await google.colab.kernel.invokeFunction(\n",
       "            'suggestCharts', [key], {});\n",
       "      } catch (error) {\n",
       "        console.error('Error during call to suggestCharts:', error);\n",
       "      }\n",
       "      quickchartButtonEl.classList.remove('colab-df-spinner');\n",
       "      quickchartButtonEl.classList.add('colab-df-quickchart-complete');\n",
       "    }\n",
       "    (() => {\n",
       "      let quickchartButtonEl =\n",
       "        document.querySelector('#df-9386ee60-c188-45fc-bcb1-6346b625a184 button');\n",
       "      quickchartButtonEl.style.display =\n",
       "        google.colab.kernel.accessAllowed ? 'block' : 'none';\n",
       "    })();\n",
       "  </script>\n",
       "</div>\n",
       "\n",
       "    </div>\n",
       "  </div>\n"
      ],
      "text/plain": [
       "       Date  MinTemp  MaxTemp  Rainfall  Evaporation  Sunshine WindGustDir  \\\n",
       "0  2/1/2008     19.5     22.4      15.6          6.2       0.0           W   \n",
       "1  2/2/2008     19.5     25.6       6.0          3.4       2.7           W   \n",
       "2  2/3/2008     21.6     24.5       6.6          2.4       0.1           W   \n",
       "3  2/4/2008     20.2     22.8      18.8          2.2       0.0           W   \n",
       "4  2/5/2008     19.7     25.7      77.4          4.8       0.0           W   \n",
       "\n",
       "   WindGustSpeed WindDir9am WindDir3pm  ...  Humidity9am  Humidity3pm  \\\n",
       "0             41          S        SSW  ...           92           84   \n",
       "1             41          W          E  ...           83           73   \n",
       "2             41        ESE        ESE  ...           88           86   \n",
       "3             41        NNE          E  ...           83           90   \n",
       "4             41        NNE          W  ...           88           74   \n",
       "\n",
       "   Pressure9am  Pressure3pm  Cloud9am  Cloud3pm  Temp9am  Temp3pm  RainToday  \\\n",
       "0       1017.6       1017.4         8         8     20.7     20.9        Yes   \n",
       "1       1017.9       1016.4         7         7     22.4     24.8        Yes   \n",
       "2       1016.7       1015.6         7         8     23.5     23.0        Yes   \n",
       "3       1014.2       1011.8         8         8     21.4     20.9        Yes   \n",
       "4       1008.3       1004.8         8         8     22.5     25.5        Yes   \n",
       "\n",
       "   RainTomorrow  \n",
       "0           Yes  \n",
       "1           Yes  \n",
       "2           Yes  \n",
       "3           Yes  \n",
       "4           Yes  \n",
       "\n",
       "[5 rows x 22 columns]"
      ]
     },
     "execution_count": 5,
     "metadata": {},
     "output_type": "execute_result"
    }
   ],
   "source": [
    "df.head()"
   ]
  },
  {
   "cell_type": "markdown",
   "metadata": {
    "id": "c0i7Fzt_lPEM"
   },
   "source": [
    "### Data Preprocessing\n"
   ]
  },
  {
   "cell_type": "markdown",
   "metadata": {
    "id": "6Ug0_olnlPEN"
   },
   "source": [
    "#### One Hot Encoding\n"
   ]
  },
  {
   "cell_type": "markdown",
   "metadata": {
    "id": "uC9Ez-QHlPEN"
   },
   "source": [
    "First, we need to perform one hot encoding to convert categorical variables to binary variables.\n"
   ]
  },
  {
   "cell_type": "code",
   "execution_count": 6,
   "metadata": {
    "executionInfo": {
     "elapsed": 5,
     "status": "ok",
     "timestamp": 1737543537005,
     "user": {
      "displayName": "Jiping Wang",
      "userId": "12655828254192313427"
     },
     "user_tz": 0
    },
    "id": "j4pRaI6XlPEN"
   },
   "outputs": [],
   "source": [
    "df_sydney_processed = pd.get_dummies(data=df, columns=['RainToday', 'WindGustDir', 'WindDir9am', 'WindDir3pm'])"
   ]
  },
  {
   "cell_type": "markdown",
   "metadata": {
    "id": "fcxzWP08lPEN"
   },
   "source": [
    "Next, we replace the values of the 'RainTomorrow' column changing them from a categorical column to a binary column. We do not use the `get_dummies` method because we would end up with two columns for 'RainTomorrow' and we do not want, since 'RainTomorrow' is our target.\n"
   ]
  },
  {
   "cell_type": "code",
   "execution_count": 7,
   "metadata": {
    "executionInfo": {
     "elapsed": 5,
     "status": "ok",
     "timestamp": 1737543537005,
     "user": {
      "displayName": "Jiping Wang",
      "userId": "12655828254192313427"
     },
     "user_tz": 0
    },
    "id": "OHQUviiBlPEN"
   },
   "outputs": [],
   "source": [
    "df_sydney_processed.replace(['No', 'Yes'], [0,1], inplace=True)"
   ]
  },
  {
   "cell_type": "markdown",
   "metadata": {
    "id": "c5535lsClPEN"
   },
   "source": [
    "### Training Data and Test Data\n"
   ]
  },
  {
   "cell_type": "markdown",
   "metadata": {
    "id": "p91xbok5lPEN"
   },
   "source": [
    "Now, we set our 'features' or x values and our Y or target variable.\n"
   ]
  },
  {
   "cell_type": "code",
   "execution_count": 8,
   "metadata": {
    "collapsed": true,
    "executionInfo": {
     "elapsed": 5,
     "status": "ok",
     "timestamp": 1737543537005,
     "user": {
      "displayName": "Jiping Wang",
      "userId": "12655828254192313427"
     },
     "user_tz": 0
    },
    "id": "K3igSTAKlPEN"
   },
   "outputs": [],
   "source": [
    "df_sydney_processed.drop('Date',axis=1,inplace=True)"
   ]
  },
  {
   "cell_type": "code",
   "execution_count": 9,
   "metadata": {
    "executionInfo": {
     "elapsed": 5,
     "status": "ok",
     "timestamp": 1737543537005,
     "user": {
      "displayName": "Jiping Wang",
      "userId": "12655828254192313427"
     },
     "user_tz": 0
    },
    "id": "qpXElLorlPEN"
   },
   "outputs": [],
   "source": [
    "df_sydney_processed = df_sydney_processed.astype(float)"
   ]
  },
  {
   "cell_type": "code",
   "execution_count": 10,
   "metadata": {
    "executionInfo": {
     "elapsed": 4,
     "status": "ok",
     "timestamp": 1737543537005,
     "user": {
      "displayName": "Jiping Wang",
      "userId": "12655828254192313427"
     },
     "user_tz": 0
    },
    "id": "MdIlw8EWlPEN"
   },
   "outputs": [],
   "source": [
    "features = df_sydney_processed.drop(columns='RainTomorrow', axis=1)\n",
    "Y = df_sydney_processed['RainTomorrow']"
   ]
  },
  {
   "cell_type": "code",
   "execution_count": 11,
   "metadata": {
    "colab": {
     "base_uri": "https://localhost:8080/",
     "height": 236
    },
    "executionInfo": {
     "elapsed": 4,
     "status": "ok",
     "timestamp": 1737543537005,
     "user": {
      "displayName": "Jiping Wang",
      "userId": "12655828254192313427"
     },
     "user_tz": 0
    },
    "id": "bpSRV3rflPEO",
    "outputId": "a0cce373-2027-49ad-d95c-8ae54b8898e3"
   },
   "outputs": [
    {
     "data": {
      "application/vnd.google.colaboratory.intrinsic+json": {
       "type": "dataframe",
       "variable_name": "df_sydney_processed"
      },
      "text/html": [
       "\n",
       "  <div id=\"df-605f7887-9dd1-4e18-8eea-1b5e4216bf2f\" class=\"colab-df-container\">\n",
       "    <div>\n",
       "<style scoped>\n",
       "    .dataframe tbody tr th:only-of-type {\n",
       "        vertical-align: middle;\n",
       "    }\n",
       "\n",
       "    .dataframe tbody tr th {\n",
       "        vertical-align: top;\n",
       "    }\n",
       "\n",
       "    .dataframe thead th {\n",
       "        text-align: right;\n",
       "    }\n",
       "</style>\n",
       "<table border=\"1\" class=\"dataframe\">\n",
       "  <thead>\n",
       "    <tr style=\"text-align: right;\">\n",
       "      <th></th>\n",
       "      <th>MinTemp</th>\n",
       "      <th>MaxTemp</th>\n",
       "      <th>Rainfall</th>\n",
       "      <th>Evaporation</th>\n",
       "      <th>Sunshine</th>\n",
       "      <th>WindGustSpeed</th>\n",
       "      <th>WindSpeed9am</th>\n",
       "      <th>WindSpeed3pm</th>\n",
       "      <th>Humidity9am</th>\n",
       "      <th>Humidity3pm</th>\n",
       "      <th>...</th>\n",
       "      <th>WindDir3pm_NNW</th>\n",
       "      <th>WindDir3pm_NW</th>\n",
       "      <th>WindDir3pm_S</th>\n",
       "      <th>WindDir3pm_SE</th>\n",
       "      <th>WindDir3pm_SSE</th>\n",
       "      <th>WindDir3pm_SSW</th>\n",
       "      <th>WindDir3pm_SW</th>\n",
       "      <th>WindDir3pm_W</th>\n",
       "      <th>WindDir3pm_WNW</th>\n",
       "      <th>WindDir3pm_WSW</th>\n",
       "    </tr>\n",
       "  </thead>\n",
       "  <tbody>\n",
       "    <tr>\n",
       "      <th>0</th>\n",
       "      <td>19.5</td>\n",
       "      <td>22.4</td>\n",
       "      <td>15.6</td>\n",
       "      <td>6.2</td>\n",
       "      <td>0.0</td>\n",
       "      <td>41.0</td>\n",
       "      <td>17.0</td>\n",
       "      <td>20.0</td>\n",
       "      <td>92.0</td>\n",
       "      <td>84.0</td>\n",
       "      <td>...</td>\n",
       "      <td>0.0</td>\n",
       "      <td>0.0</td>\n",
       "      <td>0.0</td>\n",
       "      <td>0.0</td>\n",
       "      <td>0.0</td>\n",
       "      <td>1.0</td>\n",
       "      <td>0.0</td>\n",
       "      <td>0.0</td>\n",
       "      <td>0.0</td>\n",
       "      <td>0.0</td>\n",
       "    </tr>\n",
       "    <tr>\n",
       "      <th>1</th>\n",
       "      <td>19.5</td>\n",
       "      <td>25.6</td>\n",
       "      <td>6.0</td>\n",
       "      <td>3.4</td>\n",
       "      <td>2.7</td>\n",
       "      <td>41.0</td>\n",
       "      <td>9.0</td>\n",
       "      <td>13.0</td>\n",
       "      <td>83.0</td>\n",
       "      <td>73.0</td>\n",
       "      <td>...</td>\n",
       "      <td>0.0</td>\n",
       "      <td>0.0</td>\n",
       "      <td>0.0</td>\n",
       "      <td>0.0</td>\n",
       "      <td>0.0</td>\n",
       "      <td>0.0</td>\n",
       "      <td>0.0</td>\n",
       "      <td>0.0</td>\n",
       "      <td>0.0</td>\n",
       "      <td>0.0</td>\n",
       "    </tr>\n",
       "    <tr>\n",
       "      <th>2</th>\n",
       "      <td>21.6</td>\n",
       "      <td>24.5</td>\n",
       "      <td>6.6</td>\n",
       "      <td>2.4</td>\n",
       "      <td>0.1</td>\n",
       "      <td>41.0</td>\n",
       "      <td>17.0</td>\n",
       "      <td>2.0</td>\n",
       "      <td>88.0</td>\n",
       "      <td>86.0</td>\n",
       "      <td>...</td>\n",
       "      <td>0.0</td>\n",
       "      <td>0.0</td>\n",
       "      <td>0.0</td>\n",
       "      <td>0.0</td>\n",
       "      <td>0.0</td>\n",
       "      <td>0.0</td>\n",
       "      <td>0.0</td>\n",
       "      <td>0.0</td>\n",
       "      <td>0.0</td>\n",
       "      <td>0.0</td>\n",
       "    </tr>\n",
       "    <tr>\n",
       "      <th>3</th>\n",
       "      <td>20.2</td>\n",
       "      <td>22.8</td>\n",
       "      <td>18.8</td>\n",
       "      <td>2.2</td>\n",
       "      <td>0.0</td>\n",
       "      <td>41.0</td>\n",
       "      <td>22.0</td>\n",
       "      <td>20.0</td>\n",
       "      <td>83.0</td>\n",
       "      <td>90.0</td>\n",
       "      <td>...</td>\n",
       "      <td>0.0</td>\n",
       "      <td>0.0</td>\n",
       "      <td>0.0</td>\n",
       "      <td>0.0</td>\n",
       "      <td>0.0</td>\n",
       "      <td>0.0</td>\n",
       "      <td>0.0</td>\n",
       "      <td>0.0</td>\n",
       "      <td>0.0</td>\n",
       "      <td>0.0</td>\n",
       "    </tr>\n",
       "    <tr>\n",
       "      <th>4</th>\n",
       "      <td>19.7</td>\n",
       "      <td>25.7</td>\n",
       "      <td>77.4</td>\n",
       "      <td>4.8</td>\n",
       "      <td>0.0</td>\n",
       "      <td>41.0</td>\n",
       "      <td>11.0</td>\n",
       "      <td>6.0</td>\n",
       "      <td>88.0</td>\n",
       "      <td>74.0</td>\n",
       "      <td>...</td>\n",
       "      <td>0.0</td>\n",
       "      <td>0.0</td>\n",
       "      <td>0.0</td>\n",
       "      <td>0.0</td>\n",
       "      <td>0.0</td>\n",
       "      <td>0.0</td>\n",
       "      <td>0.0</td>\n",
       "      <td>1.0</td>\n",
       "      <td>0.0</td>\n",
       "      <td>0.0</td>\n",
       "    </tr>\n",
       "  </tbody>\n",
       "</table>\n",
       "<p>5 rows × 67 columns</p>\n",
       "</div>\n",
       "    <div class=\"colab-df-buttons\">\n",
       "\n",
       "  <div class=\"colab-df-container\">\n",
       "    <button class=\"colab-df-convert\" onclick=\"convertToInteractive('df-605f7887-9dd1-4e18-8eea-1b5e4216bf2f')\"\n",
       "            title=\"Convert this dataframe to an interactive table.\"\n",
       "            style=\"display:none;\">\n",
       "\n",
       "  <svg xmlns=\"http://www.w3.org/2000/svg\" height=\"24px\" viewBox=\"0 -960 960 960\">\n",
       "    <path d=\"M120-120v-720h720v720H120Zm60-500h600v-160H180v160Zm220 220h160v-160H400v160Zm0 220h160v-160H400v160ZM180-400h160v-160H180v160Zm440 0h160v-160H620v160ZM180-180h160v-160H180v160Zm440 0h160v-160H620v160Z\"/>\n",
       "  </svg>\n",
       "    </button>\n",
       "\n",
       "  <style>\n",
       "    .colab-df-container {\n",
       "      display:flex;\n",
       "      gap: 12px;\n",
       "    }\n",
       "\n",
       "    .colab-df-convert {\n",
       "      background-color: #E8F0FE;\n",
       "      border: none;\n",
       "      border-radius: 50%;\n",
       "      cursor: pointer;\n",
       "      display: none;\n",
       "      fill: #1967D2;\n",
       "      height: 32px;\n",
       "      padding: 0 0 0 0;\n",
       "      width: 32px;\n",
       "    }\n",
       "\n",
       "    .colab-df-convert:hover {\n",
       "      background-color: #E2EBFA;\n",
       "      box-shadow: 0px 1px 2px rgba(60, 64, 67, 0.3), 0px 1px 3px 1px rgba(60, 64, 67, 0.15);\n",
       "      fill: #174EA6;\n",
       "    }\n",
       "\n",
       "    .colab-df-buttons div {\n",
       "      margin-bottom: 4px;\n",
       "    }\n",
       "\n",
       "    [theme=dark] .colab-df-convert {\n",
       "      background-color: #3B4455;\n",
       "      fill: #D2E3FC;\n",
       "    }\n",
       "\n",
       "    [theme=dark] .colab-df-convert:hover {\n",
       "      background-color: #434B5C;\n",
       "      box-shadow: 0px 1px 3px 1px rgba(0, 0, 0, 0.15);\n",
       "      filter: drop-shadow(0px 1px 2px rgba(0, 0, 0, 0.3));\n",
       "      fill: #FFFFFF;\n",
       "    }\n",
       "  </style>\n",
       "\n",
       "    <script>\n",
       "      const buttonEl =\n",
       "        document.querySelector('#df-605f7887-9dd1-4e18-8eea-1b5e4216bf2f button.colab-df-convert');\n",
       "      buttonEl.style.display =\n",
       "        google.colab.kernel.accessAllowed ? 'block' : 'none';\n",
       "\n",
       "      async function convertToInteractive(key) {\n",
       "        const element = document.querySelector('#df-605f7887-9dd1-4e18-8eea-1b5e4216bf2f');\n",
       "        const dataTable =\n",
       "          await google.colab.kernel.invokeFunction('convertToInteractive',\n",
       "                                                    [key], {});\n",
       "        if (!dataTable) return;\n",
       "\n",
       "        const docLinkHtml = 'Like what you see? Visit the ' +\n",
       "          '<a target=\"_blank\" href=https://colab.research.google.com/notebooks/data_table.ipynb>data table notebook</a>'\n",
       "          + ' to learn more about interactive tables.';\n",
       "        element.innerHTML = '';\n",
       "        dataTable['output_type'] = 'display_data';\n",
       "        await google.colab.output.renderOutput(dataTable, element);\n",
       "        const docLink = document.createElement('div');\n",
       "        docLink.innerHTML = docLinkHtml;\n",
       "        element.appendChild(docLink);\n",
       "      }\n",
       "    </script>\n",
       "  </div>\n",
       "\n",
       "\n",
       "<div id=\"df-5f280d23-6274-4888-a594-35d570adbfb0\">\n",
       "  <button class=\"colab-df-quickchart\" onclick=\"quickchart('df-5f280d23-6274-4888-a594-35d570adbfb0')\"\n",
       "            title=\"Suggest charts\"\n",
       "            style=\"display:none;\">\n",
       "\n",
       "<svg xmlns=\"http://www.w3.org/2000/svg\" height=\"24px\"viewBox=\"0 0 24 24\"\n",
       "     width=\"24px\">\n",
       "    <g>\n",
       "        <path d=\"M19 3H5c-1.1 0-2 .9-2 2v14c0 1.1.9 2 2 2h14c1.1 0 2-.9 2-2V5c0-1.1-.9-2-2-2zM9 17H7v-7h2v7zm4 0h-2V7h2v10zm4 0h-2v-4h2v4z\"/>\n",
       "    </g>\n",
       "</svg>\n",
       "  </button>\n",
       "\n",
       "<style>\n",
       "  .colab-df-quickchart {\n",
       "      --bg-color: #E8F0FE;\n",
       "      --fill-color: #1967D2;\n",
       "      --hover-bg-color: #E2EBFA;\n",
       "      --hover-fill-color: #174EA6;\n",
       "      --disabled-fill-color: #AAA;\n",
       "      --disabled-bg-color: #DDD;\n",
       "  }\n",
       "\n",
       "  [theme=dark] .colab-df-quickchart {\n",
       "      --bg-color: #3B4455;\n",
       "      --fill-color: #D2E3FC;\n",
       "      --hover-bg-color: #434B5C;\n",
       "      --hover-fill-color: #FFFFFF;\n",
       "      --disabled-bg-color: #3B4455;\n",
       "      --disabled-fill-color: #666;\n",
       "  }\n",
       "\n",
       "  .colab-df-quickchart {\n",
       "    background-color: var(--bg-color);\n",
       "    border: none;\n",
       "    border-radius: 50%;\n",
       "    cursor: pointer;\n",
       "    display: none;\n",
       "    fill: var(--fill-color);\n",
       "    height: 32px;\n",
       "    padding: 0;\n",
       "    width: 32px;\n",
       "  }\n",
       "\n",
       "  .colab-df-quickchart:hover {\n",
       "    background-color: var(--hover-bg-color);\n",
       "    box-shadow: 0 1px 2px rgba(60, 64, 67, 0.3), 0 1px 3px 1px rgba(60, 64, 67, 0.15);\n",
       "    fill: var(--button-hover-fill-color);\n",
       "  }\n",
       "\n",
       "  .colab-df-quickchart-complete:disabled,\n",
       "  .colab-df-quickchart-complete:disabled:hover {\n",
       "    background-color: var(--disabled-bg-color);\n",
       "    fill: var(--disabled-fill-color);\n",
       "    box-shadow: none;\n",
       "  }\n",
       "\n",
       "  .colab-df-spinner {\n",
       "    border: 2px solid var(--fill-color);\n",
       "    border-color: transparent;\n",
       "    border-bottom-color: var(--fill-color);\n",
       "    animation:\n",
       "      spin 1s steps(1) infinite;\n",
       "  }\n",
       "\n",
       "  @keyframes spin {\n",
       "    0% {\n",
       "      border-color: transparent;\n",
       "      border-bottom-color: var(--fill-color);\n",
       "      border-left-color: var(--fill-color);\n",
       "    }\n",
       "    20% {\n",
       "      border-color: transparent;\n",
       "      border-left-color: var(--fill-color);\n",
       "      border-top-color: var(--fill-color);\n",
       "    }\n",
       "    30% {\n",
       "      border-color: transparent;\n",
       "      border-left-color: var(--fill-color);\n",
       "      border-top-color: var(--fill-color);\n",
       "      border-right-color: var(--fill-color);\n",
       "    }\n",
       "    40% {\n",
       "      border-color: transparent;\n",
       "      border-right-color: var(--fill-color);\n",
       "      border-top-color: var(--fill-color);\n",
       "    }\n",
       "    60% {\n",
       "      border-color: transparent;\n",
       "      border-right-color: var(--fill-color);\n",
       "    }\n",
       "    80% {\n",
       "      border-color: transparent;\n",
       "      border-right-color: var(--fill-color);\n",
       "      border-bottom-color: var(--fill-color);\n",
       "    }\n",
       "    90% {\n",
       "      border-color: transparent;\n",
       "      border-bottom-color: var(--fill-color);\n",
       "    }\n",
       "  }\n",
       "</style>\n",
       "\n",
       "  <script>\n",
       "    async function quickchart(key) {\n",
       "      const quickchartButtonEl =\n",
       "        document.querySelector('#' + key + ' button');\n",
       "      quickchartButtonEl.disabled = true;  // To prevent multiple clicks.\n",
       "      quickchartButtonEl.classList.add('colab-df-spinner');\n",
       "      try {\n",
       "        const charts = await google.colab.kernel.invokeFunction(\n",
       "            'suggestCharts', [key], {});\n",
       "      } catch (error) {\n",
       "        console.error('Error during call to suggestCharts:', error);\n",
       "      }\n",
       "      quickchartButtonEl.classList.remove('colab-df-spinner');\n",
       "      quickchartButtonEl.classList.add('colab-df-quickchart-complete');\n",
       "    }\n",
       "    (() => {\n",
       "      let quickchartButtonEl =\n",
       "        document.querySelector('#df-5f280d23-6274-4888-a594-35d570adbfb0 button');\n",
       "      quickchartButtonEl.style.display =\n",
       "        google.colab.kernel.accessAllowed ? 'block' : 'none';\n",
       "    })();\n",
       "  </script>\n",
       "</div>\n",
       "\n",
       "    </div>\n",
       "  </div>\n"
      ],
      "text/plain": [
       "   MinTemp  MaxTemp  Rainfall  Evaporation  Sunshine  WindGustSpeed  \\\n",
       "0     19.5     22.4      15.6          6.2       0.0           41.0   \n",
       "1     19.5     25.6       6.0          3.4       2.7           41.0   \n",
       "2     21.6     24.5       6.6          2.4       0.1           41.0   \n",
       "3     20.2     22.8      18.8          2.2       0.0           41.0   \n",
       "4     19.7     25.7      77.4          4.8       0.0           41.0   \n",
       "\n",
       "   WindSpeed9am  WindSpeed3pm  Humidity9am  Humidity3pm  ...  WindDir3pm_NNW  \\\n",
       "0          17.0          20.0         92.0         84.0  ...             0.0   \n",
       "1           9.0          13.0         83.0         73.0  ...             0.0   \n",
       "2          17.0           2.0         88.0         86.0  ...             0.0   \n",
       "3          22.0          20.0         83.0         90.0  ...             0.0   \n",
       "4          11.0           6.0         88.0         74.0  ...             0.0   \n",
       "\n",
       "   WindDir3pm_NW  WindDir3pm_S  WindDir3pm_SE  WindDir3pm_SSE  WindDir3pm_SSW  \\\n",
       "0            0.0           0.0            0.0             0.0             1.0   \n",
       "1            0.0           0.0            0.0             0.0             0.0   \n",
       "2            0.0           0.0            0.0             0.0             0.0   \n",
       "3            0.0           0.0            0.0             0.0             0.0   \n",
       "4            0.0           0.0            0.0             0.0             0.0   \n",
       "\n",
       "   WindDir3pm_SW  WindDir3pm_W  WindDir3pm_WNW  WindDir3pm_WSW  \n",
       "0            0.0           0.0             0.0             0.0  \n",
       "1            0.0           0.0             0.0             0.0  \n",
       "2            0.0           0.0             0.0             0.0  \n",
       "3            0.0           0.0             0.0             0.0  \n",
       "4            0.0           1.0             0.0             0.0  \n",
       "\n",
       "[5 rows x 67 columns]"
      ]
     },
     "execution_count": 11,
     "metadata": {},
     "output_type": "execute_result"
    }
   ],
   "source": [
    "df_sydney_processed.head()"
   ]
  },
  {
   "cell_type": "markdown",
   "metadata": {
    "id": "Sd6cDJrdlPEO"
   },
   "source": [
    "### Linear Regression\n"
   ]
  },
  {
   "cell_type": "markdown",
   "metadata": {
    "id": "kCb24_pKlPEO"
   },
   "source": [
    "#### Q1) Use the `train_test_split` function to split the `features` and `Y` dataframes with a `test_size` of `0.2` and the `random_state` set to `10`.\n"
   ]
  },
  {
   "cell_type": "code",
   "execution_count": 12,
   "metadata": {
    "colab": {
     "base_uri": "https://localhost:8080/"
    },
    "executionInfo": {
     "elapsed": 445,
     "status": "ok",
     "timestamp": 1737543537446,
     "user": {
      "displayName": "Jiping Wang",
      "userId": "12655828254192313427"
     },
     "user_tz": 0
    },
    "id": "3g2bltlDlPEO",
    "outputId": "57dc9cc9-8777-4c03-a7d9-181d4cb476d0"
   },
   "outputs": [
    {
     "name": "stdout",
     "output_type": "stream",
     "text": [
      "X_train shape: (2616, 66)\n",
      "X_test shape: (655, 66)\n",
      "y_train shape: (2616,)\n",
      "y_test shape: (655,)\n"
     ]
    }
   ],
   "source": [
    "X_train, X_test, y_train, y_test = train_test_split(features, Y, test_size=0.2, random_state=10)\n",
    "\n",
    "# Print the shapes of the resulting splits to verify\n",
    "print(f\"X_train shape: {X_train.shape}\")\n",
    "print(f\"X_test shape: {X_test.shape}\")\n",
    "print(f\"y_train shape: {y_train.shape}\")\n",
    "print(f\"y_test shape: {y_test.shape}\")\n"
   ]
  },
  {
   "cell_type": "markdown",
   "metadata": {
    "id": "cc8ckJoYlPEO"
   },
   "source": [
    "#### Q2) Create and train a Linear Regression model called LinearReg using the training data (`x_train`, `y_train`).\n"
   ]
  },
  {
   "cell_type": "code",
   "execution_count": 13,
   "metadata": {
    "colab": {
     "base_uri": "https://localhost:8080/"
    },
    "executionInfo": {
     "elapsed": 30,
     "status": "ok",
     "timestamp": 1737543537446,
     "user": {
      "displayName": "Jiping Wang",
      "userId": "12655828254192313427"
     },
     "user_tz": 0
    },
    "id": "uzkTVfhPlPEO",
    "outputId": "d5dba77a-ca50-4f81-a23b-3052e3171417"
   },
   "outputs": [
    {
     "name": "stdout",
     "output_type": "stream",
     "text": [
      "Linear Regression model trained successfully.\n",
      "Coefficients: [-0.02369173  0.01300554  0.00072981  0.00649077 -0.03516427  0.00423762\n",
      "  0.0018292   0.00078986  0.00095609  0.00856061  0.00769793 -0.00924424\n",
      " -0.00887454  0.01004774  0.01446555 -0.00348065 -0.05402493  0.05402493\n",
      "  0.05039419 -0.07898527  0.06640003 -0.0721012  -0.05945626 -0.08239011\n",
      " -0.0789619   0.06418738 -0.00838878  0.11105128  0.01414852  0.03851666\n",
      "  0.03625722 -0.02133122  0.00395909  0.01670037  0.04350405  0.05317842\n",
      " -0.00692976 -0.01911823 -0.01461142 -0.00594829 -0.07546046  0.04176858\n",
      " -0.00758587 -0.00980346 -0.01874997  0.00302978  0.01914623 -0.0012425\n",
      " -0.01756641  0.01638932 -0.09330032 -0.08339081 -0.01838672 -0.05191842\n",
      " -0.04092463  0.03423083  0.06883841  0.01862747  0.06892422  0.00033817\n",
      " -0.04820507  0.0755034   0.03967488  0.02636872 -0.02236214  0.02598199]\n",
      "Intercept: 1.2077394797185896\n"
     ]
    }
   ],
   "source": [
    "#Enter Your Code and Execute\n",
    "from sklearn.linear_model import LinearRegression\n",
    "\n",
    "# Step 1: Initialize the Linear Regression model\n",
    "LinearReg = LinearRegression()\n",
    "\n",
    "# Step 2: Train the model on the training data\n",
    "LinearReg.fit(X_train, y_train)\n",
    "\n",
    "# Step 3: Print confirmation or coefficients\n",
    "print(\"Linear Regression model trained successfully.\")\n",
    "print(f\"Coefficients: {LinearReg.coef_}\")\n",
    "print(f\"Intercept: {LinearReg.intercept_}\")\n"
   ]
  },
  {
   "cell_type": "markdown",
   "metadata": {
    "id": "jSkx1fuplPEO"
   },
   "source": [
    "#### Q3) Now use the `predict` method on the testing data (`x_test`) and save it to the array `predictions`.\n"
   ]
  },
  {
   "cell_type": "code",
   "execution_count": 14,
   "metadata": {
    "colab": {
     "base_uri": "https://localhost:8080/"
    },
    "executionInfo": {
     "elapsed": 12,
     "status": "ok",
     "timestamp": 1737543537447,
     "user": {
      "displayName": "Jiping Wang",
      "userId": "12655828254192313427"
     },
     "user_tz": 0
    },
    "id": "tJR57z_dlPEO",
    "outputId": "b9d03514-d17e-40b4-c26e-1e5fcf2d886e"
   },
   "outputs": [
    {
     "name": "stdout",
     "output_type": "stream",
     "text": [
      "Predictions on the test data:\n",
      "[ 1.31840712e-01  2.76185900e-01  9.78188185e-01  2.87456100e-01\n",
      "  1.32413708e-01  4.60464181e-01  3.56787457e-01  8.56406853e-01\n",
      "  6.75011913e-01  3.82473927e-02  4.77419539e-03  2.81216244e-01\n",
      "  3.39082151e-01  7.80932817e-02  6.25941374e-02  5.64436895e-01\n",
      " -6.15522275e-02  5.24162822e-01  1.53690035e-01  3.59699285e-01\n",
      "  6.05340925e-02  9.03559778e-01  4.67319777e-01  2.03371127e-01\n",
      " -7.10231590e-02  3.83879525e-01  5.36083689e-01 -2.28933693e-02\n",
      "  6.40131507e-01 -9.56732521e-02  3.78086413e-01  1.20264352e-01\n",
      " -1.81459863e-02  5.53851712e-02  5.63533571e-01  1.06298389e+00\n",
      " -6.75137845e-03  5.14393583e-01 -8.83888189e-02  6.91943913e-02\n",
      "  2.44741034e-02  8.71740067e-01  2.44667654e-01  3.94725191e-01\n",
      "  2.67561501e-01  4.46793579e-01 -4.75684922e-02  1.89430640e-01\n",
      "  7.76606954e-01  1.57760377e-01  3.94719448e-03 -5.19683322e-02\n",
      "  2.07339163e-01 -2.07888133e-01 -7.61137847e-02  2.49651865e-01\n",
      "  2.79297446e-01  6.02773116e-01  6.29592460e-01  4.90636291e-01\n",
      "  5.64565303e-02  1.05475540e-01  6.70029363e-01  7.64838704e-01\n",
      "  9.84499795e-02 -6.33056160e-02  4.13823618e-01  7.25364765e-02\n",
      "  2.49917971e-01  2.56468402e-01  3.77705640e-02 -6.88718814e-02\n",
      "  3.48219232e-01  1.73071055e-01  4.15423145e-01 -7.24983913e-02\n",
      "  3.41135995e-01  1.86976156e-01 -1.54847404e-01  7.99778060e-01\n",
      "  2.32431585e-01  2.37367661e-01  2.56127237e-01  1.03466084e-01\n",
      "  6.20764283e-01  1.29721735e-01  3.71424311e-01  4.83042648e-01\n",
      "  3.08265156e-01  1.19427613e-01  5.48297885e-02  1.12822723e-01\n",
      " -1.62481413e-01 -1.58032338e-01  7.29072284e-02  7.76421124e-01\n",
      "  8.43127676e-02  6.43078334e-01  1.21773151e-01  1.78040707e-01\n",
      "  3.04930409e-01  1.85480465e-01  1.13147563e+00  3.44454784e-01\n",
      "  8.26849184e-01  5.38890645e-01  2.74328353e-01  6.29414474e-01\n",
      " -6.72552151e-02  9.63549735e-01  5.61927906e-01  2.34410108e-02\n",
      "  1.05622507e-01  9.38557698e-02  8.15318052e-02  2.92139111e-01\n",
      "  5.55062220e-01  6.69176747e-02  4.25463433e-02  9.35562755e-04\n",
      "  1.37669609e-01 -2.18006565e-01  7.01250615e-02  1.19823123e-01\n",
      "  1.92735395e-01 -3.82744235e-02  1.55998541e-01  7.12626611e-01\n",
      "  2.62339780e-01  5.34838467e-01  3.97807014e-01 -4.64929684e-02\n",
      "  2.44020951e-01  2.06290899e-01  2.80378212e-01 -1.28245752e-01\n",
      "  1.19488210e-01  3.83370205e-01  1.84383737e-01  7.28564539e-01\n",
      "  3.31827535e-01 -1.03242642e-01  2.39503040e-01  3.06034917e-01\n",
      "  6.63119532e-01  2.21357501e-02  1.60040417e-01  5.21619542e-01\n",
      " -4.34325154e-02  7.98400465e-01  2.21742457e-01  3.89904710e-01\n",
      " -5.63728605e-02  4.02369409e-01  2.34169688e-01  1.20398468e-01\n",
      "  3.05498025e-01  7.86222452e-01  3.32336329e-02  1.22549531e+00\n",
      "  8.94651653e-01  8.18199152e-02 -1.52120433e-02  1.71020653e-01\n",
      " -6.85725442e-02 -1.07847316e-01 -5.02238280e-02  2.98691575e-01\n",
      "  3.57075159e-01  9.57844003e-02  8.85306947e-01 -3.33658810e-02\n",
      "  5.99241029e-01  8.95593095e-02  9.83806369e-02  3.54103244e-01\n",
      "  2.35981387e-01 -6.72891305e-02  1.44298290e-01  4.17879729e-01\n",
      "  5.87426802e-01  2.16773672e-01 -3.33052457e-02  1.00633429e+00\n",
      "  4.25846383e-02 -1.73468006e-02  2.48308719e-01 -5.93543471e-02\n",
      "  2.22218329e-01 -7.19205136e-02  8.47021837e-02  7.15337695e-02\n",
      "  3.49234851e-02  4.43496374e-01  1.86802542e-01  1.83139040e-01\n",
      "  7.56345312e-02  1.36679048e-02  1.84670701e-01  2.32347785e-01\n",
      "  5.30615386e-01  1.60344448e-01  3.95286069e-01 -4.49269726e-02\n",
      "  8.39269704e-01  1.65981532e-02 -1.69864546e-02 -2.14105892e-02\n",
      "  1.46430743e-01  1.38096806e-01 -3.34627312e-02  4.14846379e-01\n",
      "  6.57281066e-01 -4.94651247e-03  2.86284263e-02  4.61183338e-02\n",
      " -7.21705987e-02  2.73774071e-01  5.28617923e-01 -5.90620468e-02\n",
      "  8.43157543e-01  3.25852861e-01  3.18870096e-01  3.63744752e-02\n",
      " -8.52000857e-02  2.83312132e-01  3.01282417e-01  1.37743094e-01\n",
      "  3.35831595e-01  4.12462813e-01  3.75244511e-01  1.24084193e-01\n",
      "  2.87873831e-01  9.06206482e-01  4.45533990e-01  2.74797749e-01\n",
      " -6.60532436e-03  6.91803807e-01  6.71924316e-01  1.15393281e-01\n",
      "  7.74549164e-01  9.94358037e-01  5.87650791e-01  3.14302246e-01\n",
      "  2.26392604e-01 -4.47494575e-02  2.25994985e-01  2.30601720e-01\n",
      "  3.54957984e-01 -1.26601083e-01  3.52375588e-02  1.82239906e-01\n",
      "  2.15339073e-01  1.76158890e-01 -2.96404452e-02  1.00051312e+00\n",
      "  1.88197932e-01  7.52113071e-01  6.19808197e-01  7.17821606e-01\n",
      "  3.15627498e-01  2.23618519e-02  3.26420782e-01 -6.89740316e-03\n",
      "  2.81563768e-01 -2.27787125e-02  7.98771527e-02 -2.34164464e-03\n",
      "  3.57090543e-01  1.36476681e-01  2.65779370e-01  1.39974117e-02\n",
      "  2.21067319e-01  7.07375160e-01  1.59529110e-01  2.04517058e-01\n",
      "  5.38237026e-01 -1.52588099e-01  2.54852220e-01  2.76410108e-01\n",
      "  2.64023902e-01  6.69033549e-02  9.74347875e-01  1.99997045e-01\n",
      "  7.55760932e-01 -3.49887620e-02  4.87678271e-01  5.89763049e-03\n",
      " -7.24418486e-02  3.05637576e-01 -2.05079139e-01  1.90978006e-01\n",
      " -2.46277600e-02 -7.71501493e-02  2.78943236e-01  7.84268508e-02\n",
      "  2.33905735e-01  4.44842019e-01  6.62372194e-02 -3.31177613e-02\n",
      "  5.83152308e-01  5.77876173e-02  3.20459751e-01  7.24197849e-01\n",
      "  1.35358967e-01 -2.21965803e-02  7.33070768e-01 -3.08296891e-01\n",
      "  1.09129932e+00  2.85932222e-01  8.85041928e-01  6.96588095e-01\n",
      "  5.85259353e-01 -2.22652864e-02  9.52062912e-01  7.14982939e-01\n",
      "  4.48496942e-01  5.80447455e-01  1.87102772e-01  2.29639935e-01\n",
      " -5.77929874e-02  3.15228960e-01  8.74665450e-01 -1.67721086e-02\n",
      "  2.52541228e-01 -3.35195995e-02 -4.39975848e-02  4.13335808e-02\n",
      "  2.35945018e-01  2.03049844e-01  8.81999854e-01  5.87242302e-01\n",
      "  1.20085044e-01 -2.02734025e-02 -1.92936365e-02  1.03505445e-01\n",
      "  8.29862686e-03  2.29168589e-01 -1.69495607e-02  7.15167304e-02\n",
      "  1.62671137e-01  1.70108183e-01  2.46575705e-01  1.47717196e-01\n",
      "  3.91752802e-01 -6.66140359e-02  1.15671374e-01  1.84458861e-01\n",
      "  9.07026523e-02 -1.79858272e-02  2.09282724e-01 -1.30237026e-02\n",
      "  5.46445388e-01  4.15836709e-01  1.78163272e-01  1.71990857e-02\n",
      "  4.93856326e-01  1.47163268e-01  5.24793099e-01  5.98113751e-01\n",
      "  3.08284095e-01  3.09304076e-01  4.46425493e-01  1.68165249e-01\n",
      "  2.60765713e-01  7.56254277e-01  4.06205366e-01  4.90661957e-01\n",
      "  5.14289622e-01 -1.30232373e-01  7.90198428e-02  3.50567612e-01\n",
      "  1.00467338e+00  2.73416039e-01  6.35379730e-01  5.78586321e-01\n",
      "  4.68216974e-01  3.76297384e-03  3.59021969e-01  6.74709146e-02\n",
      " -4.23739852e-02  7.03298878e-01  1.27127893e-01  8.00077724e-01\n",
      "  4.70827506e-01 -1.74192455e-02  2.93278948e-02  5.55236864e-01\n",
      "  5.00964855e-02  1.15262638e-01 -9.70501530e-03  1.47504474e-01\n",
      "  4.71182391e-01 -9.26897265e-02  8.08742153e-02  3.10182950e-02\n",
      "  3.94801423e-01  2.23753806e-01  1.00329788e+00  7.08090403e-01\n",
      "  3.55997263e-01  2.62934458e-01 -2.83679934e-02 -9.62483175e-03\n",
      "  3.09124354e-02  1.41734595e-01  7.82546787e-02  5.12604870e-01\n",
      "  2.04801326e-01  3.11707638e-01  5.28489276e-01  4.61891873e-01\n",
      "  5.35884831e-02  8.17250936e-01  5.33891678e-01 -1.38187208e-01\n",
      "  5.09412905e-01  1.94084160e-01  4.56180438e-01  1.85180671e-01\n",
      "  2.21971773e-01  1.15603938e-01  6.32803039e-02  7.36995439e-02\n",
      "  1.02420870e-01  5.51402581e-01  7.02956750e-01  5.22118021e-01\n",
      "  5.35080387e-01  3.19632924e-02  1.11082538e-01 -1.18640071e-01\n",
      "  5.31877177e-01 -1.74415681e-01  4.54460822e-01  9.74375029e-01\n",
      "  4.18192425e-01 -1.16021261e-01  8.70702681e-01  1.62188069e-01\n",
      "  6.13061092e-01  3.17185804e-01 -7.86486200e-02  4.93940269e-01\n",
      "  7.44881430e-01  6.05537787e-02  6.03666839e-02  2.36820660e-01\n",
      "  5.79182316e-01  1.10725033e-01  3.81822520e-01  6.02238984e-01\n",
      "  5.84382183e-02  2.21816805e-01  3.89002030e-01  6.63729000e-01\n",
      "  1.56121743e-01  3.97304626e-01  5.80167781e-01  5.03779247e-01\n",
      "  1.06432630e-01  1.49776769e-01  2.33248701e-01 -3.34058779e-03\n",
      " -2.86270362e-02  2.65908990e-01  2.60582430e-01 -6.16482512e-02\n",
      "  1.46270008e-01  8.24797349e-01  5.68478533e-01 -9.56281264e-02\n",
      " -1.02449385e-01  8.49186482e-02  1.61634526e-01 -7.92519850e-02\n",
      "  9.43892776e-01  7.93969018e-02  3.38423186e-01  1.57981105e-01\n",
      " -6.93998862e-02  2.15109948e-01  4.78867327e-01  2.15635694e-02\n",
      "  5.34419318e-01  1.42541368e-01 -1.58410909e-01  9.97594751e-03\n",
      "  2.26734470e-01  3.34777222e-01  6.04673331e-02 -2.09418060e-02\n",
      " -1.07869636e-01  3.34319463e-01  5.10158738e-01  3.45961380e-01\n",
      " -8.67008087e-02 -4.99638895e-02  5.05306329e-01  8.22533661e-02\n",
      "  6.74933898e-02  3.23137927e-01  3.38196567e-01  5.37319335e-01\n",
      "  2.91821807e-01  3.30545424e-01 -4.10529054e-02  8.27465101e-01\n",
      "  6.03420452e-01  2.36681585e-01  7.02315277e-01  4.44650034e-01\n",
      "  5.81152842e-01  1.90036463e-01  5.45203486e-02  9.38372896e-02\n",
      " -6.77285869e-02  1.05980762e-01 -2.49450200e-02 -2.94534219e-02\n",
      "  6.55925692e-02  9.60845526e-02  1.03282387e-01  1.77726939e-01\n",
      "  1.02111757e-01  6.64126540e-01  1.97715299e-01  1.04739661e-01\n",
      "  1.13419243e-01 -3.24748340e-02  1.46583640e-01  4.64938057e-01\n",
      "  7.55550490e-01  2.03915715e-01  4.90149979e-01 -1.01313322e-01\n",
      "  6.61667581e-01  7.53463689e-01  9.01057155e-01  7.72954086e-01\n",
      "  2.73429539e-01  2.98064019e-01  1.87133812e-01  7.19880183e-01\n",
      "  2.29814990e-01  3.34671852e-01  8.51557487e-01  3.06683124e-02\n",
      " -3.71196574e-03 -7.81557610e-02  7.49832334e-01  2.04636851e-01\n",
      "  4.06051434e-01  3.32293599e-01  1.81994691e-01  8.23371376e-01\n",
      "  5.03206122e-01  6.34022935e-01 -5.08353852e-02  4.25798694e-02\n",
      "  1.11137290e-01  1.89195077e-01  6.01010659e-01  4.09055422e-01\n",
      "  6.87736847e-01  2.89891342e-01 -9.20643669e-02  4.46647819e-02\n",
      "  1.98936145e-01  6.18894245e-01  1.41851660e-01  6.98896299e-01\n",
      "  3.11863144e-01  1.26812726e-01  8.11483315e-01  6.24740759e-02\n",
      " -1.04437761e-01  6.59992489e-02  1.23665735e-01  5.18712742e-01\n",
      " -5.96591217e-02  6.39723500e-01 -1.29830602e-02  3.84296062e-02\n",
      " -1.04921317e-01  1.96531713e-01  3.36148904e-01  4.88001429e-01\n",
      "  1.93823724e-01  7.93251922e-01  1.69409572e-01  8.55875613e-02\n",
      "  1.68642994e-01  1.73186508e-01  3.23820345e-02  4.69271567e-01\n",
      "  2.03093509e-01  8.46700750e-01  4.20869779e-01  2.17929649e-01\n",
      "  1.81157957e-01  1.54870583e-01  7.26318797e-01  4.45232146e-01\n",
      "  4.87515959e-01  1.01610085e-01  4.13119528e-01 -1.13232404e-01\n",
      "  1.79376681e-01 -9.75496859e-03  1.39082119e-01  1.12007265e-01\n",
      "  6.09594255e-01  2.16445035e-02  1.88290144e-01 -1.35343964e-01\n",
      "  7.06456907e-01  4.33113087e-01 -5.83460785e-02  9.28716519e-01\n",
      "  5.40611480e-01 -1.65135340e-03  9.18998752e-01 -2.18837486e-02\n",
      "  1.65423701e-01  1.77812044e-01  4.72883526e-01 -2.82712863e-03\n",
      "  4.00385494e-01  1.42001597e-02  1.95334297e-01 -6.80024698e-02\n",
      "  5.87241814e-01  1.92466566e-01  2.33326540e-01  2.73651195e-01\n",
      "  9.40690556e-01  7.10110939e-01  1.33386582e-01  7.37277943e-02\n",
      "  5.58285152e-02 -2.26405432e-01  4.11055108e-02  5.17065038e-02\n",
      "  3.10274594e-02  2.93612618e-01  9.69353392e-01  7.98664337e-01\n",
      " -2.29937603e-02  5.26714413e-02  2.64844172e-01  1.75160698e-01\n",
      "  7.06314106e-01  1.73841176e-01  3.44308923e-01]\n"
     ]
    }
   ],
   "source": [
    "#Enter Your Code and Execute\n",
    "# Step 1: Use the predict method to make predictions on X_test\n",
    "predictions = LinearReg.predict(X_test)\n",
    "\n",
    "# Step 2: Print the predictions (optional)\n",
    "print(\"Predictions on the test data:\")\n",
    "print(predictions)\n"
   ]
  },
  {
   "cell_type": "code",
   "execution_count": 15,
   "metadata": {
    "colab": {
     "base_uri": "https://localhost:8080/"
    },
    "executionInfo": {
     "elapsed": 10,
     "status": "ok",
     "timestamp": 1737543537447,
     "user": {
      "displayName": "Jiping Wang",
      "userId": "12655828254192313427"
     },
     "user_tz": 0
    },
    "id": "FUhK7ciWlPEO",
    "outputId": "802e9afa-6d8d-4791-a666-d0ec0e5fa52d"
   },
   "outputs": [
    {
     "data": {
      "text/plain": [
       "numpy.ndarray"
      ]
     },
     "execution_count": 15,
     "metadata": {},
     "output_type": "execute_result"
    }
   ],
   "source": [
    "type(predictions)"
   ]
  },
  {
   "cell_type": "markdown",
   "metadata": {
    "id": "KETPBNBRlPEP"
   },
   "source": [
    "#### Q4) Using the `predictions` and the `y_test` dataframe calculate the value for each metric using the appropriate function.\n"
   ]
  },
  {
   "cell_type": "code",
   "execution_count": 16,
   "metadata": {
    "colab": {
     "base_uri": "https://localhost:8080/"
    },
    "executionInfo": {
     "elapsed": 6,
     "status": "ok",
     "timestamp": 1737543537447,
     "user": {
      "displayName": "Jiping Wang",
      "userId": "12655828254192313427"
     },
     "user_tz": 0
    },
    "id": "QFT3tVNDlPEP",
    "outputId": "83060832-95ea-42d8-e7da-a9dc6e7f440f"
   },
   "outputs": [
    {
     "name": "stdout",
     "output_type": "stream",
     "text": [
      "Mean Squared Error (MSE): 0.12\n",
      "Mean Absolute Error (MAE): 0.26\n",
      "R-squared (R²): 0.43\n"
     ]
    }
   ],
   "source": [
    "#Enter Your Code and Execute\n",
    "from sklearn.metrics import mean_absolute_error, mean_squared_error, r2_score\n",
    "# Step 1: Calculate Mean Squared Error (MSE)\n",
    "LinearRegression_MSE = mean_squared_error(y_test, predictions)\n",
    "\n",
    "# Step 2: Calculate Mean Absolute Error (MAE)\n",
    "LinearRegression_MAE = mean_absolute_error(y_test, predictions)\n",
    "\n",
    "# Step 3: Calculate R-squared (R²)\n",
    "LinearRegression_R2 = r2_score(y_test, predictions)\n",
    "\n",
    "# Step 4: Print the metrics\n",
    "print(f\"Mean Squared Error (MSE): {LinearRegression_MSE:.2f}\")\n",
    "print(f\"Mean Absolute Error (MAE): {LinearRegression_MAE:.2f}\")\n",
    "print(f\"R-squared (R²): {LinearRegression_R2:.2f}\")\n"
   ]
  },
  {
   "cell_type": "markdown",
   "metadata": {
    "id": "8Q2QPyi8lPEP"
   },
   "source": [
    "#### Q5) Show the MAE, MSE, and R2 in a tabular format using data frame for the linear model.\n"
   ]
  },
  {
   "cell_type": "code",
   "execution_count": 17,
   "metadata": {
    "colab": {
     "base_uri": "https://localhost:8080/"
    },
    "executionInfo": {
     "elapsed": 5,
     "status": "ok",
     "timestamp": 1737543537447,
     "user": {
      "displayName": "Jiping Wang",
      "userId": "12655828254192313427"
     },
     "user_tz": 0
    },
    "id": "P--cdiXylPEV",
    "outputId": "b7474669-3e5c-4a5a-9991-4943352381dd"
   },
   "outputs": [
    {
     "name": "stdout",
     "output_type": "stream",
     "text": [
      "  Metric     Value\n",
      "0    MAE  0.256318\n",
      "1    MSE  0.115721\n",
      "2     R2  0.427132\n"
     ]
    }
   ],
   "source": [
    "#Enter Your Code and Execute\n",
    "import pandas as pd\n",
    "\n",
    "# Create a dictionary with the metric names and their corresponding values\n",
    "metrics = {\n",
    "    \"Metric\": [\"MAE\", \"MSE\", \"R2\"],\n",
    "    \"Value\": [LinearRegression_MAE, LinearRegression_MSE, LinearRegression_R2]\n",
    "}\n",
    "\n",
    "# Convert the dictionary to a Pandas DataFrame\n",
    "Report = pd.DataFrame(metrics)\n",
    "\n",
    "# Display the DataFrame\n",
    "print(Report)\n"
   ]
  },
  {
   "cell_type": "markdown",
   "metadata": {
    "id": "XNvQelnWlPEV"
   },
   "source": [
    "### KNN\n"
   ]
  },
  {
   "cell_type": "markdown",
   "metadata": {
    "id": "NqflFOh_lPEV"
   },
   "source": [
    "#### Q6) Create and train a KNN model called KNN using the training data (`x_train`, `y_train`) with the `n_neighbors` parameter set to `4`.\n"
   ]
  },
  {
   "cell_type": "code",
   "execution_count": 18,
   "metadata": {
    "colab": {
     "base_uri": "https://localhost:8080/"
    },
    "executionInfo": {
     "elapsed": 4,
     "status": "ok",
     "timestamp": 1737543537447,
     "user": {
      "displayName": "Jiping Wang",
      "userId": "12655828254192313427"
     },
     "user_tz": 0
    },
    "id": "TD_buQo6lPEW",
    "outputId": "f0586b9b-6f01-4021-85ed-aeb9424ac7ff"
   },
   "outputs": [
    {
     "name": "stdout",
     "output_type": "stream",
     "text": [
      "KNN model trained successfully.\n"
     ]
    }
   ],
   "source": [
    "#Enter Your Code and Execute\n",
    "from sklearn.neighbors import KNeighborsRegressor\n",
    "\n",
    "# Step 1: Initialize the KNN model with n_neighbors=4\n",
    "KNN = KNeighborsRegressor(n_neighbors=4)\n",
    "\n",
    "# Step 2: Train the model on the training data\n",
    "KNN.fit(X_train, y_train)\n",
    "\n",
    "# Step 3: Confirm the training\n",
    "print(\"KNN model trained successfully.\")\n"
   ]
  },
  {
   "cell_type": "code",
   "execution_count": 18,
   "metadata": {
    "executionInfo": {
     "elapsed": 3,
     "status": "ok",
     "timestamp": 1737543537447,
     "user": {
      "displayName": "Jiping Wang",
      "userId": "12655828254192313427"
     },
     "user_tz": 0
    },
    "id": "daDXHPtWlPEW"
   },
   "outputs": [],
   "source": []
  },
  {
   "cell_type": "markdown",
   "metadata": {
    "id": "YJJhv7NzlPEW"
   },
   "source": [
    "#### Q7) Now use the `predict` method on the testing data (`x_test`) and save it to the array `predictions`.\n"
   ]
  },
  {
   "cell_type": "code",
   "execution_count": 19,
   "metadata": {
    "executionInfo": {
     "elapsed": 3,
     "status": "ok",
     "timestamp": 1737543537447,
     "user": {
      "displayName": "Jiping Wang",
      "userId": "12655828254192313427"
     },
     "user_tz": 0
    },
    "id": "XwvLtXltlPEW"
   },
   "outputs": [],
   "source": [
    "#Enter Your Code and Execute\n",
    "\n",
    "predictions = KNN.predict(X_test)\n"
   ]
  },
  {
   "cell_type": "markdown",
   "metadata": {
    "id": "h5AHKA-ulPEW"
   },
   "source": [
    "#### Q8) Using the `predictions` and the `y_test` dataframe calculate the value for each metric using the appropriate function.\n"
   ]
  },
  {
   "cell_type": "code",
   "execution_count": 20,
   "metadata": {
    "colab": {
     "base_uri": "https://localhost:8080/"
    },
    "executionInfo": {
     "elapsed": 431,
     "status": "ok",
     "timestamp": 1737543537875,
     "user": {
      "displayName": "Jiping Wang",
      "userId": "12655828254192313427"
     },
     "user_tz": 0
    },
    "id": "XYZt1asalPEW",
    "outputId": "39ce27e6-c113-4233-ce41-3609b209a003"
   },
   "outputs": [
    {
     "name": "stdout",
     "output_type": "stream",
     "text": [
      "Mean Squared Error (MSE): 0.14\n",
      "Mean Absolute Error (MAE): 0.23\n",
      "R-squared (R²): 0.29\n"
     ]
    }
   ],
   "source": [
    "\n",
    "\n",
    "# Step 1: Calculate Mean Squared Error (MSE)\n",
    "KNN_MSE = mean_squared_error(y_test, predictions)\n",
    "\n",
    "# Step 2: Calculate Mean Absolute Error (MAE)\n",
    "KNN_MAE = mean_absolute_error(y_test, predictions)\n",
    "\n",
    "# Step 3: Calculate R-squared (R²)\n",
    "KNN_R2 = r2_score(y_test, predictions)\n",
    "\n",
    "# Step 4: Print the metrics\n",
    "print(f\"Mean Squared Error (MSE): {KNN_MSE:.2f}\")\n",
    "print(f\"Mean Absolute Error (MAE): {KNN_MAE:.2f}\")\n",
    "print(f\"R-squared (R²): {KNN_R2:.2f}\")"
   ]
  },
  {
   "cell_type": "code",
   "execution_count": 21,
   "metadata": {
    "colab": {
     "base_uri": "https://localhost:8080/"
    },
    "executionInfo": {
     "elapsed": 6,
     "status": "ok",
     "timestamp": 1737543537875,
     "user": {
      "displayName": "Jiping Wang",
      "userId": "12655828254192313427"
     },
     "user_tz": 0
    },
    "id": "s6sEwO8zlPEW",
    "outputId": "5523fc11-786b-4360-d86b-f45682e10d4c"
   },
   "outputs": [
    {
     "name": "stdout",
     "output_type": "stream",
     "text": [
      "KNN Accuracy Score:  0.8183206106870229\n",
      "KNN Jaccard Index:  0.4251207729468599\n",
      "KNN F1 Score:  0.5966101694915255\n"
     ]
    }
   ],
   "source": [
    "KNN_Accuracy_Score = accuracy_score(y_test, predictions.round())\n",
    "KNN_JaccardIndex = jaccard_score(y_test, predictions.round())\n",
    "KNN_F1_Score = f1_score(y_test, predictions.round())\n",
    "\n",
    "print(\"KNN Accuracy Score: \", KNN_Accuracy_Score)\n",
    "print(\"KNN Jaccard Index: \", KNN_JaccardIndex)\n",
    "print(\"KNN F1 Score: \", KNN_F1_Score)"
   ]
  },
  {
   "cell_type": "markdown",
   "metadata": {
    "id": "WdFOpbgXlPEW"
   },
   "source": [
    "### Decision Tree\n"
   ]
  },
  {
   "cell_type": "markdown",
   "metadata": {
    "id": "I7ribAu8lPEW"
   },
   "source": [
    "#### Q9) Create and train a Decision Tree model called Tree using the training data (`x_train`, `y_train`).\n"
   ]
  },
  {
   "cell_type": "code",
   "execution_count": 22,
   "metadata": {
    "colab": {
     "base_uri": "https://localhost:8080/"
    },
    "executionInfo": {
     "elapsed": 3,
     "status": "ok",
     "timestamp": 1737543537875,
     "user": {
      "displayName": "Jiping Wang",
      "userId": "12655828254192313427"
     },
     "user_tz": 0
    },
    "id": "t3poGyTClPEX",
    "outputId": "689c0a76-a07f-4470-fe4d-8478ee3bba4c"
   },
   "outputs": [
    {
     "name": "stdout",
     "output_type": "stream",
     "text": [
      "Decision Tree model trained successfully.\n"
     ]
    }
   ],
   "source": [
    "# Step 1: Initialize the Decision Tree Classifier\n",
    "Tree = DecisionTreeClassifier()\n",
    "\n",
    "# Step 2: Train the model\n",
    "Tree.fit(X_train, y_train)\n",
    "\n",
    "# Step 3: Confirm training (optional)\n",
    "print(\"Decision Tree model trained successfully.\")"
   ]
  },
  {
   "cell_type": "markdown",
   "metadata": {
    "id": "dY0VMrPFlPEX"
   },
   "source": [
    "#### Q10) Now use the `predict` method on the testing data (`x_test`) and save it to the array `predictions`.\n"
   ]
  },
  {
   "cell_type": "code",
   "execution_count": 23,
   "metadata": {
    "executionInfo": {
     "elapsed": 342,
     "status": "ok",
     "timestamp": 1737543538215,
     "user": {
      "displayName": "Jiping Wang",
      "userId": "12655828254192313427"
     },
     "user_tz": 0
    },
    "id": "yzy_nxw_lPEX"
   },
   "outputs": [],
   "source": [
    "predictions = Tree.predict(X_test)"
   ]
  },
  {
   "cell_type": "markdown",
   "metadata": {
    "id": "3uR8OSGVlPEX"
   },
   "source": [
    "#### Q11) Using the `predictions` and the `y_test` dataframe calculate the value for each metric using the appropriate function.\n"
   ]
  },
  {
   "cell_type": "code",
   "execution_count": 24,
   "metadata": {
    "colab": {
     "base_uri": "https://localhost:8080/"
    },
    "executionInfo": {
     "elapsed": 7,
     "status": "ok",
     "timestamp": 1737543538215,
     "user": {
      "displayName": "Jiping Wang",
      "userId": "12655828254192313427"
     },
     "user_tz": 0
    },
    "id": "l2vOwZwilPEX",
    "outputId": "7944dec1-a41b-429a-9575-7f4794a73790"
   },
   "outputs": [
    {
     "name": "stdout",
     "output_type": "stream",
     "text": [
      "Decision Tree Accuracy Score:  0.749618320610687\n",
      "Decision Tree Jaccard Index:  0.3903345724907063\n",
      "Decision Tree F1 Score:  0.5614973262032086\n"
     ]
    }
   ],
   "source": [
    "\n",
    "Tree_Accuracy_Score = accuracy_score(y_test, predictions)\n",
    "Tree_JaccardIndex = jaccard_score(y_test, predictions)\n",
    "Tree_F1_Score = f1_score(y_test, predictions)\n",
    "\n",
    "print(\"Decision Tree Accuracy Score: \", Tree_Accuracy_Score)\n",
    "print(\"Decision Tree Jaccard Index: \", Tree_JaccardIndex)\n",
    "print(\"Decision Tree F1 Score: \", Tree_F1_Score)"
   ]
  },
  {
   "cell_type": "code",
   "execution_count": 24,
   "metadata": {
    "executionInfo": {
     "elapsed": 7,
     "status": "ok",
     "timestamp": 1737543538215,
     "user": {
      "displayName": "Jiping Wang",
      "userId": "12655828254192313427"
     },
     "user_tz": 0
    },
    "id": "279ikMz7lPEX"
   },
   "outputs": [],
   "source": []
  },
  {
   "cell_type": "markdown",
   "metadata": {
    "id": "dNGBM_WwlPEX"
   },
   "source": [
    "### Logistic Regression\n"
   ]
  },
  {
   "cell_type": "markdown",
   "metadata": {
    "id": "WfFEV81ylPEX"
   },
   "source": [
    "#### Q12) Use the `train_test_split` function to split the `features` and `Y` dataframes with a `test_size` of `0.2` and the `random_state` set to `1`.\n"
   ]
  },
  {
   "cell_type": "code",
   "execution_count": 25,
   "metadata": {
    "executionInfo": {
     "elapsed": 7,
     "status": "ok",
     "timestamp": 1737543538215,
     "user": {
      "displayName": "Jiping Wang",
      "userId": "12655828254192313427"
     },
     "user_tz": 0
    },
    "id": "3oX8Y2U0lPEX"
   },
   "outputs": [],
   "source": [
    "X_train, X_test, y_train, y_test = train_test_split(features, Y, test_size=0.2, random_state=1)"
   ]
  },
  {
   "cell_type": "markdown",
   "metadata": {
    "id": "tr0xyTX1lPEY"
   },
   "source": [
    "#### Q13) Create and train a LogisticRegression model called LR using the training data (`x_train`, `y_train`) with the `solver` parameter set to `liblinear`.\n"
   ]
  },
  {
   "cell_type": "code",
   "execution_count": 26,
   "metadata": {
    "colab": {
     "base_uri": "https://localhost:8080/"
    },
    "executionInfo": {
     "elapsed": 6,
     "status": "ok",
     "timestamp": 1737543538215,
     "user": {
      "displayName": "Jiping Wang",
      "userId": "12655828254192313427"
     },
     "user_tz": 0
    },
    "id": "mRzFWnOMlPEY",
    "outputId": "bcc3a656-66d3-4796-ac86-f4fa49908545"
   },
   "outputs": [
    {
     "name": "stdout",
     "output_type": "stream",
     "text": [
      "Logistic Regression model trained successfully.\n"
     ]
    }
   ],
   "source": [
    "\n",
    "# Step 1: Initialize the Logistic Regression model with the specified solver\n",
    "LR = LogisticRegression(solver='liblinear')\n",
    "\n",
    "# Step 2: Train the model on the training data\n",
    "LR.fit(X_train, y_train)\n",
    "\n",
    "# Step 3: Confirm the training (optional)\n",
    "print(\"Logistic Regression model trained successfully.\")"
   ]
  },
  {
   "cell_type": "markdown",
   "metadata": {
    "id": "5E77LfhslPEY"
   },
   "source": [
    "#### Q14) Now, use the `predict` and `predict_proba` methods on the testing data (`x_test`) and save it as 2 arrays `predictions` and `predict_proba`.\n"
   ]
  },
  {
   "cell_type": "code",
   "execution_count": 27,
   "metadata": {
    "executionInfo": {
     "elapsed": 5,
     "status": "ok",
     "timestamp": 1737543538215,
     "user": {
      "displayName": "Jiping Wang",
      "userId": "12655828254192313427"
     },
     "user_tz": 0
    },
    "id": "rlX-O4PllPEY"
   },
   "outputs": [],
   "source": [
    "\n",
    "predictions = LR.predict(X_test)\n",
    "predict_proba = LR.predict_proba(X_test)"
   ]
  },
  {
   "cell_type": "code",
   "execution_count": 28,
   "metadata": {
    "colab": {
     "base_uri": "https://localhost:8080/"
    },
    "executionInfo": {
     "elapsed": 5,
     "status": "ok",
     "timestamp": 1737543538215,
     "user": {
      "displayName": "Jiping Wang",
      "userId": "12655828254192313427"
     },
     "user_tz": 0
    },
    "id": "KGGHHHn_lPEY",
    "outputId": "1a426144-ad82-4442-cf2c-717788980929"
   },
   "outputs": [
    {
     "data": {
      "text/plain": [
       "numpy.ndarray"
      ]
     },
     "execution_count": 28,
     "metadata": {},
     "output_type": "execute_result"
    }
   ],
   "source": [
    "type(predictions)"
   ]
  },
  {
   "cell_type": "code",
   "execution_count": 28,
   "metadata": {
    "executionInfo": {
     "elapsed": 3,
     "status": "ok",
     "timestamp": 1737543538215,
     "user": {
      "displayName": "Jiping Wang",
      "userId": "12655828254192313427"
     },
     "user_tz": 0
    },
    "id": "vP9vvRx5lPEY"
   },
   "outputs": [],
   "source": []
  },
  {
   "cell_type": "markdown",
   "metadata": {
    "id": "Oer1wi_OlPEY"
   },
   "source": [
    "#### Q15) Using the `predictions`, `predict_proba` and the `y_test` dataframe calculate the value for each metric using the appropriate function.\n"
   ]
  },
  {
   "cell_type": "code",
   "execution_count": 29,
   "metadata": {
    "colab": {
     "base_uri": "https://localhost:8080/"
    },
    "executionInfo": {
     "elapsed": 3,
     "status": "ok",
     "timestamp": 1737543538215,
     "user": {
      "displayName": "Jiping Wang",
      "userId": "12655828254192313427"
     },
     "user_tz": 0
    },
    "id": "d8m0k2V7lPEY",
    "outputId": "b1e61ec2-bf3a-449f-8db7-537e9eb13fe3"
   },
   "outputs": [
    {
     "name": "stdout",
     "output_type": "stream",
     "text": [
      "Logistic Regression Accuracy Score:  0.8366412213740458\n",
      "Logistic Regression Jaccard Index:  0.5091743119266054\n",
      "Logistic Regression F1 Score:  0.6747720364741642\n",
      "Logistic Regression Log Loss:  5.888047194863413\n"
     ]
    }
   ],
   "source": [
    "LR_Accuracy_Score = accuracy_score(y_test, predictions)\n",
    "LR_JaccardIndex = jaccard_score(y_test, predictions)\n",
    "LR_F1_Score = f1_score(y_test, predictions)\n",
    "LR_Log_Loss = log_loss(y_test, predictions)\n",
    "\n",
    "print(\"Logistic Regression Accuracy Score: \", LR_Accuracy_Score)\n",
    "print(\"Logistic Regression Jaccard Index: \", LR_JaccardIndex)\n",
    "print(\"Logistic Regression F1 Score: \", LR_F1_Score)\n",
    "print(\"Logistic Regression Log Loss: \", LR_Log_Loss)"
   ]
  },
  {
   "cell_type": "markdown",
   "metadata": {
    "id": "Gj9xdHv0lPEY"
   },
   "source": [
    "### SVM\n"
   ]
  },
  {
   "cell_type": "markdown",
   "metadata": {
    "id": "utLGI8PilPEY"
   },
   "source": [
    "#### Q16) Create and train a SVM model called SVM using the training data (`x_train`, `y_train`).\n"
   ]
  },
  {
   "cell_type": "code",
   "execution_count": 30,
   "metadata": {
    "colab": {
     "base_uri": "https://localhost:8080/"
    },
    "executionInfo": {
     "elapsed": 1068,
     "status": "ok",
     "timestamp": 1737543539281,
     "user": {
      "displayName": "Jiping Wang",
      "userId": "12655828254192313427"
     },
     "user_tz": 0
    },
    "id": "KcP5yq_PlPEZ",
    "outputId": "f07282b2-75eb-49f2-8264-4a2857135b67"
   },
   "outputs": [
    {
     "name": "stdout",
     "output_type": "stream",
     "text": [
      "SVM model trained successfully.\n"
     ]
    }
   ],
   "source": [
    "# Step 1: Initialize the SVM model\n",
    "SVM = svm.SVC()\n",
    "\n",
    "# Step 2: Train the model\n",
    "SVM.fit(X_train, y_train)\n",
    "\n",
    "# Step 3: Confirm the training (optional)\n",
    "print(\"SVM model trained successfully.\")\n"
   ]
  },
  {
   "cell_type": "markdown",
   "metadata": {
    "id": "FtlpCxrAlPEZ"
   },
   "source": [
    "#### Q17) Now use the `predict` method on the testing data (`x_test`) and save it to the array `predictions`.\n"
   ]
  },
  {
   "cell_type": "code",
   "execution_count": 31,
   "metadata": {
    "executionInfo": {
     "elapsed": 7,
     "status": "ok",
     "timestamp": 1737543539281,
     "user": {
      "displayName": "Jiping Wang",
      "userId": "12655828254192313427"
     },
     "user_tz": 0
    },
    "id": "-PF-od5alPEZ"
   },
   "outputs": [],
   "source": [
    "predictions = SVM.predict(X_test)"
   ]
  },
  {
   "cell_type": "markdown",
   "metadata": {
    "id": "iZDVpVbalPEZ"
   },
   "source": [
    "#### Q18) Using the `predictions` and the `y_test` dataframe calculate the value for each metric using the appropriate function.\n"
   ]
  },
  {
   "cell_type": "code",
   "execution_count": 32,
   "metadata": {
    "colab": {
     "base_uri": "https://localhost:8080/"
    },
    "executionInfo": {
     "elapsed": 7,
     "status": "ok",
     "timestamp": 1737543539281,
     "user": {
      "displayName": "Jiping Wang",
      "userId": "12655828254192313427"
     },
     "user_tz": 0
    },
    "id": "2PFS5M6PlPEZ",
    "outputId": "e95c19c8-508a-4951-e63e-d76fcb6fb34f"
   },
   "outputs": [
    {
     "name": "stdout",
     "output_type": "stream",
     "text": [
      "SVM Accuracy Score:  0.7221374045801526\n",
      "SVM Jaccard Index:  0.0\n",
      "SVM F1 Score:  0.0\n"
     ]
    }
   ],
   "source": [
    "SVM_Accuracy_Score = accuracy_score(y_test, predictions)\n",
    "SVM_JaccardIndex = jaccard_score(y_test, predictions)\n",
    "SVM_F1_Score = f1_score(y_test, predictions)\n",
    "\n",
    "print(\"SVM Accuracy Score: \", SVM_Accuracy_Score)\n",
    "print(\"SVM Jaccard Index: \", SVM_JaccardIndex)\n",
    "print(\"SVM F1 Score: \", SVM_F1_Score)"
   ]
  },
  {
   "cell_type": "markdown",
   "metadata": {
    "id": "NCF_3QGilPEZ"
   },
   "source": [
    "### Report\n"
   ]
  },
  {
   "cell_type": "markdown",
   "metadata": {
    "id": "XCalYswflPEZ"
   },
   "source": [
    "#### Q19) Show the Accuracy,Jaccard Index,F1-Score and LogLoss in a tabular format using data frame for all of the above models.\n",
    "\n",
    "\\*LogLoss is only for Logistic Regression Model\n"
   ]
  },
  {
   "cell_type": "code",
   "execution_count": 33,
   "metadata": {
    "colab": {
     "base_uri": "https://localhost:8080/",
     "height": 175
    },
    "executionInfo": {
     "elapsed": 6,
     "status": "ok",
     "timestamp": 1737543539281,
     "user": {
      "displayName": "Jiping Wang",
      "userId": "12655828254192313427"
     },
     "user_tz": 0
    },
    "id": "D62-gjCCpE_Y",
    "outputId": "d2f642e6-b763-4091-c4be-a5e704eac5e9"
   },
   "outputs": [
    {
     "data": {
      "application/vnd.google.colaboratory.intrinsic+json": {
       "summary": "{\n  \"name\": \"Report\",\n  \"rows\": 4,\n  \"fields\": [\n    {\n      \"column\": \"Model\",\n      \"properties\": {\n        \"dtype\": \"string\",\n        \"num_unique_values\": 4,\n        \"samples\": [\n          \"Decision Tree\",\n          \"SVM\",\n          \"KNN\"\n        ],\n        \"semantic_type\": \"\",\n        \"description\": \"\"\n      }\n    },\n    {\n      \"column\": \"Accuracy Score\",\n      \"properties\": {\n        \"dtype\": \"number\",\n        \"std\": 0.05457881811212057,\n        \"min\": 0.7221374045801526,\n        \"max\": 0.8366412213740458,\n        \"num_unique_values\": 4,\n        \"samples\": [\n          0.749618320610687,\n          0.7221374045801526,\n          0.8183206106870229\n        ],\n        \"semantic_type\": \"\",\n        \"description\": \"\"\n      }\n    },\n    {\n      \"column\": \"Jaccard Index\",\n      \"properties\": {\n        \"dtype\": \"number\",\n        \"std\": 0.22633772531786026,\n        \"min\": 0.0,\n        \"max\": 0.5091743119266054,\n        \"num_unique_values\": 4,\n        \"samples\": [\n          0.3903345724907063,\n          0.0,\n          0.4251207729468599\n        ],\n        \"semantic_type\": \"\",\n        \"description\": \"\"\n      }\n    },\n    {\n      \"column\": \"F1-Score\",\n      \"properties\": {\n        \"dtype\": \"number\",\n        \"std\": 0.3091269415739701,\n        \"min\": 0.0,\n        \"max\": 0.6747720364741642,\n        \"num_unique_values\": 4,\n        \"samples\": [\n          0.5614973262032086,\n          0.0,\n          0.5966101694915255\n        ],\n        \"semantic_type\": \"\",\n        \"description\": \"\"\n      }\n    },\n    {\n      \"column\": \"LogLoss\",\n      \"properties\": {\n        \"dtype\": \"number\",\n        \"std\": null,\n        \"min\": 5.888047194863413,\n        \"max\": 5.888047194863413,\n        \"num_unique_values\": 1,\n        \"samples\": [\n          5.888047194863413\n        ],\n        \"semantic_type\": \"\",\n        \"description\": \"\"\n      }\n    }\n  ]\n}",
       "type": "dataframe",
       "variable_name": "Report"
      },
      "text/html": [
       "\n",
       "  <div id=\"df-48e2f69c-0588-4015-920c-72955d282c44\" class=\"colab-df-container\">\n",
       "    <div>\n",
       "<style scoped>\n",
       "    .dataframe tbody tr th:only-of-type {\n",
       "        vertical-align: middle;\n",
       "    }\n",
       "\n",
       "    .dataframe tbody tr th {\n",
       "        vertical-align: top;\n",
       "    }\n",
       "\n",
       "    .dataframe thead th {\n",
       "        text-align: right;\n",
       "    }\n",
       "</style>\n",
       "<table border=\"1\" class=\"dataframe\">\n",
       "  <thead>\n",
       "    <tr style=\"text-align: right;\">\n",
       "      <th></th>\n",
       "      <th>Model</th>\n",
       "      <th>Accuracy Score</th>\n",
       "      <th>Jaccard Index</th>\n",
       "      <th>F1-Score</th>\n",
       "      <th>LogLoss</th>\n",
       "    </tr>\n",
       "  </thead>\n",
       "  <tbody>\n",
       "    <tr>\n",
       "      <th>0</th>\n",
       "      <td>KNN</td>\n",
       "      <td>0.818321</td>\n",
       "      <td>0.425121</td>\n",
       "      <td>0.596610</td>\n",
       "      <td>NaN</td>\n",
       "    </tr>\n",
       "    <tr>\n",
       "      <th>1</th>\n",
       "      <td>Decision Tree</td>\n",
       "      <td>0.749618</td>\n",
       "      <td>0.390335</td>\n",
       "      <td>0.561497</td>\n",
       "      <td>NaN</td>\n",
       "    </tr>\n",
       "    <tr>\n",
       "      <th>2</th>\n",
       "      <td>Logistic Regression</td>\n",
       "      <td>0.836641</td>\n",
       "      <td>0.509174</td>\n",
       "      <td>0.674772</td>\n",
       "      <td>5.888047</td>\n",
       "    </tr>\n",
       "    <tr>\n",
       "      <th>3</th>\n",
       "      <td>SVM</td>\n",
       "      <td>0.722137</td>\n",
       "      <td>0.000000</td>\n",
       "      <td>0.000000</td>\n",
       "      <td>NaN</td>\n",
       "    </tr>\n",
       "  </tbody>\n",
       "</table>\n",
       "</div>\n",
       "    <div class=\"colab-df-buttons\">\n",
       "\n",
       "  <div class=\"colab-df-container\">\n",
       "    <button class=\"colab-df-convert\" onclick=\"convertToInteractive('df-48e2f69c-0588-4015-920c-72955d282c44')\"\n",
       "            title=\"Convert this dataframe to an interactive table.\"\n",
       "            style=\"display:none;\">\n",
       "\n",
       "  <svg xmlns=\"http://www.w3.org/2000/svg\" height=\"24px\" viewBox=\"0 -960 960 960\">\n",
       "    <path d=\"M120-120v-720h720v720H120Zm60-500h600v-160H180v160Zm220 220h160v-160H400v160Zm0 220h160v-160H400v160ZM180-400h160v-160H180v160Zm440 0h160v-160H620v160ZM180-180h160v-160H180v160Zm440 0h160v-160H620v160Z\"/>\n",
       "  </svg>\n",
       "    </button>\n",
       "\n",
       "  <style>\n",
       "    .colab-df-container {\n",
       "      display:flex;\n",
       "      gap: 12px;\n",
       "    }\n",
       "\n",
       "    .colab-df-convert {\n",
       "      background-color: #E8F0FE;\n",
       "      border: none;\n",
       "      border-radius: 50%;\n",
       "      cursor: pointer;\n",
       "      display: none;\n",
       "      fill: #1967D2;\n",
       "      height: 32px;\n",
       "      padding: 0 0 0 0;\n",
       "      width: 32px;\n",
       "    }\n",
       "\n",
       "    .colab-df-convert:hover {\n",
       "      background-color: #E2EBFA;\n",
       "      box-shadow: 0px 1px 2px rgba(60, 64, 67, 0.3), 0px 1px 3px 1px rgba(60, 64, 67, 0.15);\n",
       "      fill: #174EA6;\n",
       "    }\n",
       "\n",
       "    .colab-df-buttons div {\n",
       "      margin-bottom: 4px;\n",
       "    }\n",
       "\n",
       "    [theme=dark] .colab-df-convert {\n",
       "      background-color: #3B4455;\n",
       "      fill: #D2E3FC;\n",
       "    }\n",
       "\n",
       "    [theme=dark] .colab-df-convert:hover {\n",
       "      background-color: #434B5C;\n",
       "      box-shadow: 0px 1px 3px 1px rgba(0, 0, 0, 0.15);\n",
       "      filter: drop-shadow(0px 1px 2px rgba(0, 0, 0, 0.3));\n",
       "      fill: #FFFFFF;\n",
       "    }\n",
       "  </style>\n",
       "\n",
       "    <script>\n",
       "      const buttonEl =\n",
       "        document.querySelector('#df-48e2f69c-0588-4015-920c-72955d282c44 button.colab-df-convert');\n",
       "      buttonEl.style.display =\n",
       "        google.colab.kernel.accessAllowed ? 'block' : 'none';\n",
       "\n",
       "      async function convertToInteractive(key) {\n",
       "        const element = document.querySelector('#df-48e2f69c-0588-4015-920c-72955d282c44');\n",
       "        const dataTable =\n",
       "          await google.colab.kernel.invokeFunction('convertToInteractive',\n",
       "                                                    [key], {});\n",
       "        if (!dataTable) return;\n",
       "\n",
       "        const docLinkHtml = 'Like what you see? Visit the ' +\n",
       "          '<a target=\"_blank\" href=https://colab.research.google.com/notebooks/data_table.ipynb>data table notebook</a>'\n",
       "          + ' to learn more about interactive tables.';\n",
       "        element.innerHTML = '';\n",
       "        dataTable['output_type'] = 'display_data';\n",
       "        await google.colab.output.renderOutput(dataTable, element);\n",
       "        const docLink = document.createElement('div');\n",
       "        docLink.innerHTML = docLinkHtml;\n",
       "        element.appendChild(docLink);\n",
       "      }\n",
       "    </script>\n",
       "  </div>\n",
       "\n",
       "\n",
       "<div id=\"df-8438191a-9251-487c-83da-9cb14a55caa3\">\n",
       "  <button class=\"colab-df-quickchart\" onclick=\"quickchart('df-8438191a-9251-487c-83da-9cb14a55caa3')\"\n",
       "            title=\"Suggest charts\"\n",
       "            style=\"display:none;\">\n",
       "\n",
       "<svg xmlns=\"http://www.w3.org/2000/svg\" height=\"24px\"viewBox=\"0 0 24 24\"\n",
       "     width=\"24px\">\n",
       "    <g>\n",
       "        <path d=\"M19 3H5c-1.1 0-2 .9-2 2v14c0 1.1.9 2 2 2h14c1.1 0 2-.9 2-2V5c0-1.1-.9-2-2-2zM9 17H7v-7h2v7zm4 0h-2V7h2v10zm4 0h-2v-4h2v4z\"/>\n",
       "    </g>\n",
       "</svg>\n",
       "  </button>\n",
       "\n",
       "<style>\n",
       "  .colab-df-quickchart {\n",
       "      --bg-color: #E8F0FE;\n",
       "      --fill-color: #1967D2;\n",
       "      --hover-bg-color: #E2EBFA;\n",
       "      --hover-fill-color: #174EA6;\n",
       "      --disabled-fill-color: #AAA;\n",
       "      --disabled-bg-color: #DDD;\n",
       "  }\n",
       "\n",
       "  [theme=dark] .colab-df-quickchart {\n",
       "      --bg-color: #3B4455;\n",
       "      --fill-color: #D2E3FC;\n",
       "      --hover-bg-color: #434B5C;\n",
       "      --hover-fill-color: #FFFFFF;\n",
       "      --disabled-bg-color: #3B4455;\n",
       "      --disabled-fill-color: #666;\n",
       "  }\n",
       "\n",
       "  .colab-df-quickchart {\n",
       "    background-color: var(--bg-color);\n",
       "    border: none;\n",
       "    border-radius: 50%;\n",
       "    cursor: pointer;\n",
       "    display: none;\n",
       "    fill: var(--fill-color);\n",
       "    height: 32px;\n",
       "    padding: 0;\n",
       "    width: 32px;\n",
       "  }\n",
       "\n",
       "  .colab-df-quickchart:hover {\n",
       "    background-color: var(--hover-bg-color);\n",
       "    box-shadow: 0 1px 2px rgba(60, 64, 67, 0.3), 0 1px 3px 1px rgba(60, 64, 67, 0.15);\n",
       "    fill: var(--button-hover-fill-color);\n",
       "  }\n",
       "\n",
       "  .colab-df-quickchart-complete:disabled,\n",
       "  .colab-df-quickchart-complete:disabled:hover {\n",
       "    background-color: var(--disabled-bg-color);\n",
       "    fill: var(--disabled-fill-color);\n",
       "    box-shadow: none;\n",
       "  }\n",
       "\n",
       "  .colab-df-spinner {\n",
       "    border: 2px solid var(--fill-color);\n",
       "    border-color: transparent;\n",
       "    border-bottom-color: var(--fill-color);\n",
       "    animation:\n",
       "      spin 1s steps(1) infinite;\n",
       "  }\n",
       "\n",
       "  @keyframes spin {\n",
       "    0% {\n",
       "      border-color: transparent;\n",
       "      border-bottom-color: var(--fill-color);\n",
       "      border-left-color: var(--fill-color);\n",
       "    }\n",
       "    20% {\n",
       "      border-color: transparent;\n",
       "      border-left-color: var(--fill-color);\n",
       "      border-top-color: var(--fill-color);\n",
       "    }\n",
       "    30% {\n",
       "      border-color: transparent;\n",
       "      border-left-color: var(--fill-color);\n",
       "      border-top-color: var(--fill-color);\n",
       "      border-right-color: var(--fill-color);\n",
       "    }\n",
       "    40% {\n",
       "      border-color: transparent;\n",
       "      border-right-color: var(--fill-color);\n",
       "      border-top-color: var(--fill-color);\n",
       "    }\n",
       "    60% {\n",
       "      border-color: transparent;\n",
       "      border-right-color: var(--fill-color);\n",
       "    }\n",
       "    80% {\n",
       "      border-color: transparent;\n",
       "      border-right-color: var(--fill-color);\n",
       "      border-bottom-color: var(--fill-color);\n",
       "    }\n",
       "    90% {\n",
       "      border-color: transparent;\n",
       "      border-bottom-color: var(--fill-color);\n",
       "    }\n",
       "  }\n",
       "</style>\n",
       "\n",
       "  <script>\n",
       "    async function quickchart(key) {\n",
       "      const quickchartButtonEl =\n",
       "        document.querySelector('#' + key + ' button');\n",
       "      quickchartButtonEl.disabled = true;  // To prevent multiple clicks.\n",
       "      quickchartButtonEl.classList.add('colab-df-spinner');\n",
       "      try {\n",
       "        const charts = await google.colab.kernel.invokeFunction(\n",
       "            'suggestCharts', [key], {});\n",
       "      } catch (error) {\n",
       "        console.error('Error during call to suggestCharts:', error);\n",
       "      }\n",
       "      quickchartButtonEl.classList.remove('colab-df-spinner');\n",
       "      quickchartButtonEl.classList.add('colab-df-quickchart-complete');\n",
       "    }\n",
       "    (() => {\n",
       "      let quickchartButtonEl =\n",
       "        document.querySelector('#df-8438191a-9251-487c-83da-9cb14a55caa3 button');\n",
       "      quickchartButtonEl.style.display =\n",
       "        google.colab.kernel.accessAllowed ? 'block' : 'none';\n",
       "    })();\n",
       "  </script>\n",
       "</div>\n",
       "\n",
       "  <div id=\"id_8e2c12c3-b0e6-4e78-b449-27953dfc1d06\">\n",
       "    <style>\n",
       "      .colab-df-generate {\n",
       "        background-color: #E8F0FE;\n",
       "        border: none;\n",
       "        border-radius: 50%;\n",
       "        cursor: pointer;\n",
       "        display: none;\n",
       "        fill: #1967D2;\n",
       "        height: 32px;\n",
       "        padding: 0 0 0 0;\n",
       "        width: 32px;\n",
       "      }\n",
       "\n",
       "      .colab-df-generate:hover {\n",
       "        background-color: #E2EBFA;\n",
       "        box-shadow: 0px 1px 2px rgba(60, 64, 67, 0.3), 0px 1px 3px 1px rgba(60, 64, 67, 0.15);\n",
       "        fill: #174EA6;\n",
       "      }\n",
       "\n",
       "      [theme=dark] .colab-df-generate {\n",
       "        background-color: #3B4455;\n",
       "        fill: #D2E3FC;\n",
       "      }\n",
       "\n",
       "      [theme=dark] .colab-df-generate:hover {\n",
       "        background-color: #434B5C;\n",
       "        box-shadow: 0px 1px 3px 1px rgba(0, 0, 0, 0.15);\n",
       "        filter: drop-shadow(0px 1px 2px rgba(0, 0, 0, 0.3));\n",
       "        fill: #FFFFFF;\n",
       "      }\n",
       "    </style>\n",
       "    <button class=\"colab-df-generate\" onclick=\"generateWithVariable('Report')\"\n",
       "            title=\"Generate code using this dataframe.\"\n",
       "            style=\"display:none;\">\n",
       "\n",
       "  <svg xmlns=\"http://www.w3.org/2000/svg\" height=\"24px\"viewBox=\"0 0 24 24\"\n",
       "       width=\"24px\">\n",
       "    <path d=\"M7,19H8.4L18.45,9,17,7.55,7,17.6ZM5,21V16.75L18.45,3.32a2,2,0,0,1,2.83,0l1.4,1.43a1.91,1.91,0,0,1,.58,1.4,1.91,1.91,0,0,1-.58,1.4L9.25,21ZM18.45,9,17,7.55Zm-12,3A5.31,5.31,0,0,0,4.9,8.1,5.31,5.31,0,0,0,1,6.5,5.31,5.31,0,0,0,4.9,4.9,5.31,5.31,0,0,0,6.5,1,5.31,5.31,0,0,0,8.1,4.9,5.31,5.31,0,0,0,12,6.5,5.46,5.46,0,0,0,6.5,12Z\"/>\n",
       "  </svg>\n",
       "    </button>\n",
       "    <script>\n",
       "      (() => {\n",
       "      const buttonEl =\n",
       "        document.querySelector('#id_8e2c12c3-b0e6-4e78-b449-27953dfc1d06 button.colab-df-generate');\n",
       "      buttonEl.style.display =\n",
       "        google.colab.kernel.accessAllowed ? 'block' : 'none';\n",
       "\n",
       "      buttonEl.onclick = () => {\n",
       "        google.colab.notebook.generateWithVariable('Report');\n",
       "      }\n",
       "      })();\n",
       "    </script>\n",
       "  </div>\n",
       "\n",
       "    </div>\n",
       "  </div>\n"
      ],
      "text/plain": [
       "                 Model  Accuracy Score  Jaccard Index  F1-Score   LogLoss\n",
       "0                  KNN        0.818321       0.425121  0.596610       NaN\n",
       "1        Decision Tree        0.749618       0.390335  0.561497       NaN\n",
       "2  Logistic Regression        0.836641       0.509174  0.674772  5.888047\n",
       "3                  SVM        0.722137       0.000000  0.000000       NaN"
      ]
     },
     "execution_count": 33,
     "metadata": {},
     "output_type": "execute_result"
    }
   ],
   "source": [
    "# Create a dictionary to store the model results\n",
    "results = {\n",
    "    'Model': [ 'KNN', 'Decision Tree', 'Logistic Regression', 'SVM'],\n",
    "    'Accuracy Score': [ KNN_Accuracy_Score, Tree_Accuracy_Score, LR_Accuracy_Score, SVM_Accuracy_Score],\n",
    "    'Jaccard Index': [ KNN_JaccardIndex, Tree_JaccardIndex, LR_JaccardIndex, SVM_JaccardIndex],\n",
    "    'F1-Score': [ KNN_F1_Score, Tree_F1_Score, LR_F1_Score, SVM_F1_Score],\n",
    "    'LogLoss': [ None, None, LR_Log_Loss, None]\n",
    "}\n",
    "\n",
    "# Create a DataFrame from the dictionary\n",
    "Report = pd.DataFrame(results)\n",
    "\n",
    "# Display the DataFrame\n",
    "Report"
   ]
  },
  {
   "cell_type": "markdown",
   "metadata": {
    "id": "SduhBYhJlPEZ"
   },
   "source": [
    "<h2 id=\"Section_5\">  How to submit </h2>\n",
    "\n",
    "<p>Once you complete your notebook you will have to share it. You can download the notebook by navigating to \"File\" and clicking on \"Download\" button.\n",
    "\n",
    "<p>This will save the (.ipynb) file on your computer. Once saved, you can upload this file in the \"My Submission\" tab, of the \"Peer-graded Assignment\" section.  \n"
   ]
  },
  {
   "cell_type": "markdown",
   "metadata": {
    "id": "a4YimxfnlPEZ"
   },
   "source": [
    "<h2>About the Authors:</h2>\n",
    "\n",
    "<a href=\"https://www.linkedin.com/in/joseph-s-50398b136/?utm_medium=Exinfluencer&utm_source=Exinfluencer&utm_content=000026UJ&utm_term=10006555&utm_id=NA-SkillsNetwork-Channel-SkillsNetworkCoursesIBMDeveloperSkillsNetworkML0101ENSkillsNetwork20718538-2022-01-01\">Joseph Santarcangelo</a> has a PhD in Electrical Engineering, his research focused on using machine learning, signal processing, and computer vision to determine how videos impact human cognition. Joseph has been working for IBM since he completed his PhD.\n",
    "\n",
    "### Other Contributors\n",
    "\n",
    "[Svitlana Kramar](https://www.linkedin.com/in/svitlana-kramar/?utm_medium=Exinfluencer&utm_source=Exinfluencer&utm_content=000026UJ&utm_term=10006555&utm_id=NA-SkillsNetwork-Channel-SkillsNetworkCoursesIBMML0232ENSkillsNetwork30654641-2022-01-01)\n"
   ]
  },
  {
   "cell_type": "markdown",
   "metadata": {
    "id": "mO0Z74O2lPEZ"
   },
   "source": [
    "## <h3 align=\"center\"> © IBM Corporation 2020. All rights reserved. <h3/>\n",
    "\n",
    "<!--\n",
    "## Change Log\n",
    "\n",
    "| Date (YYYY-MM-DD) | Version | Changed By    | Change Description          |\n",
    "| ----------------- | ------- | ------------- | --------------------------- |\n",
    "| 2022-06-22        | 2.0     | Svitlana K.   | Deleted GridSearch and Mock |\n",
    "--!>"
   ]
  }
 ],
 "metadata": {
  "colab": {
   "provenance": []
  },
  "kernelspec": {
   "display_name": "Python 3 (ipykernel)",
   "language": "python",
   "name": "python3"
  },
  "language_info": {
   "codemirror_mode": {
    "name": "ipython",
    "version": 3
   },
   "file_extension": ".py",
   "mimetype": "text/x-python",
   "name": "python",
   "nbconvert_exporter": "python",
   "pygments_lexer": "ipython3",
   "version": "3.9.20"
  },
  "prev_pub_hash": "b45b938fc7420206c5fa3f040f896f2a578fd1045d763cf82b4c02f8772d2aee"
 },
 "nbformat": 4,
 "nbformat_minor": 0
}
